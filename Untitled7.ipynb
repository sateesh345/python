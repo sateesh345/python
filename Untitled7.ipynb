{
  "nbformat": 4,
  "nbformat_minor": 0,
  "metadata": {
    "colab": {
      "provenance": [],
      "authorship_tag": "ABX9TyNi+Z3S9xJLcE2qI9WlPkSk",
      "include_colab_link": true
    },
    "kernelspec": {
      "name": "python3",
      "display_name": "Python 3"
    },
    "language_info": {
      "name": "python"
    }
  },
  "cells": [
    {
      "cell_type": "markdown",
      "metadata": {
        "id": "view-in-github",
        "colab_type": "text"
      },
      "source": [
        "<a href=\"https://colab.research.google.com/github/sateesh345/python/blob/main/Untitled7.ipynb\" target=\"_parent\"><img src=\"https://colab.research.google.com/assets/colab-badge.svg\" alt=\"Open In Colab\"/></a>"
      ]
    },
    {
      "cell_type": "code",
      "source": [
        " s=['sateesh ram charam chakri yuvan']\n",
        "len(s)"
      ],
      "metadata": {
        "colab": {
          "base_uri": "https://localhost:8080/"
        },
        "id": "43cDfX6Fs1a1",
        "outputId": "0be55811-7a90-4de5-a682-ba29b195c400"
      },
      "execution_count": null,
      "outputs": [
        {
          "output_type": "execute_result",
          "data": {
            "text/plain": [
              "1"
            ]
          },
          "metadata": {},
          "execution_count": 4
        }
      ]
    },
    {
      "cell_type": "code",
      "source": [
        "p=(20+50+80+150)\n",
        "print(p)"
      ],
      "metadata": {
        "colab": {
          "base_uri": "https://localhost:8080/"
        },
        "id": "MhHQmLJutywi",
        "outputId": "64bd6ae7-cc02-4ff6-d8c1-103ecae11be4"
      },
      "execution_count": null,
      "outputs": [
        {
          "output_type": "stream",
          "name": "stdout",
          "text": [
            "300\n"
          ]
        }
      ]
    },
    {
      "cell_type": "code",
      "source": [
        "p=['a','b','c','d']\n",
        "print(p)"
      ],
      "metadata": {
        "colab": {
          "base_uri": "https://localhost:8080/"
        },
        "id": "RFEy5IkpwAQo",
        "outputId": "3010ca5e-bc81-4297-ed86-00e781d8a48b"
      },
      "execution_count": null,
      "outputs": [
        {
          "output_type": "stream",
          "name": "stdout",
          "text": [
            "['a', 'b', 'c', 'd']\n"
          ]
        }
      ]
    },
    {
      "cell_type": "code",
      "source": [
        "p=30\n",
        "if p==30:\n",
        " print('p is equal to 30')\n"
      ],
      "metadata": {
        "colab": {
          "base_uri": "https://localhost:8080/"
        },
        "id": "8dczUBohwPHc",
        "outputId": "66ebfc11-8d00-4e5a-8673-a3c8950bf736"
      },
      "execution_count": null,
      "outputs": [
        {
          "output_type": "stream",
          "name": "stdout",
          "text": [
            "p is equal to 30\n"
          ]
        }
      ]
    },
    {
      "cell_type": "code",
      "source": [
        "for i in range(0,5):\n",
        "\n",
        "  print(i)"
      ],
      "metadata": {
        "colab": {
          "base_uri": "https://localhost:8080/"
        },
        "id": "4Eg45lVDwttO",
        "outputId": "8a764501-3a6d-4fdc-b154-79d7e8f1e428"
      },
      "execution_count": null,
      "outputs": [
        {
          "output_type": "stream",
          "name": "stdout",
          "text": [
            "0\n",
            "1\n",
            "2\n",
            "3\n",
            "4\n"
          ]
        }
      ]
    },
    {
      "cell_type": "code",
      "source": [
        "for i in range(0,5):\n",
        "  j=20\n",
        "  print(i)\n",
        "print(j)"
      ],
      "metadata": {
        "colab": {
          "base_uri": "https://localhost:8080/"
        },
        "id": "0wuhUCevxDyw",
        "outputId": "d387a50b-fbce-499b-8c10-1c7505af45cb"
      },
      "execution_count": null,
      "outputs": [
        {
          "output_type": "stream",
          "name": "stdout",
          "text": [
            "0\n",
            "1\n",
            "2\n",
            "3\n",
            "4\n",
            "20\n"
          ]
        }
      ]
    },
    {
      "cell_type": "code",
      "source": [
        "def square(num):\n",
        "     return num**2\n",
        "     square(2)\n"
      ],
      "metadata": {
        "id": "9FcAFxqVxnYn"
      },
      "execution_count": null,
      "outputs": []
    },
    {
      "cell_type": "code",
      "source": [
        "def evenood(num):\n",
        "  if num % 2==0:\n",
        "    print(\"even number\")\n",
        "  else:\n",
        "    print(\"odd number\")\n",
        "evenood(2)\n",
        "evenood(3)\n"
      ],
      "metadata": {
        "colab": {
          "base_uri": "https://localhost:8080/"
        },
        "id": "8AtS08_mzYPc",
        "outputId": "02831439-e614-4382-f108-6ae2c8ea0fae"
      },
      "execution_count": null,
      "outputs": [
        {
          "output_type": "stream",
          "name": "stdout",
          "text": [
            "even number\n",
            "odd number\n"
          ]
        }
      ]
    },
    {
      "cell_type": "code",
      "source": [
        "def evenood(num):\n",
        "  if num %2==0:\n",
        "    print(\"even number\")\n",
        "  else:\n",
        "    print(\"odd number\")\n",
        "evenood(3)\n",
        "evenood(9)"
      ],
      "metadata": {
        "colab": {
          "base_uri": "https://localhost:8080/"
        },
        "id": "Q-H_Rvdk_fyI",
        "outputId": "4e7cefc3-ba33-4cd1-c7e2-d9152e256301"
      },
      "execution_count": null,
      "outputs": [
        {
          "output_type": "stream",
          "name": "stdout",
          "text": [
            "odd number\n",
            "odd number\n"
          ]
        }
      ]
    },
    {
      "cell_type": "code",
      "source": [
        "p=30\n",
        "id(p)\n",
        "hex(id(p))"
      ],
      "metadata": {
        "colab": {
          "base_uri": "https://localhost:8080/",
          "height": 35
        },
        "id": "K2rpq49U1-MZ",
        "outputId": "bdbc28d4-cb26-4af9-bab3-265e13427c74"
      },
      "execution_count": null,
      "outputs": [
        {
          "output_type": "execute_result",
          "data": {
            "text/plain": [
              "'0xa40f28'"
            ],
            "application/vnd.google.colaboratory.intrinsic+json": {
              "type": "string"
            }
          },
          "metadata": {},
          "execution_count": 35
        }
      ]
    },
    {
      "cell_type": "code",
      "source": [
        "p=20\n",
        "q=20\n",
        "r=q\n",
        "p,type(p),hex(id(p))\n",
        "q,type(q),hex(id(q))\n",
        "r,type(r),hex(id(r))\n",
        "\n"
      ],
      "metadata": {
        "colab": {
          "base_uri": "https://localhost:8080/"
        },
        "id": "0wB3D8A722tU",
        "outputId": "be7c983b-293a-4a9a-ae8c-8fe3d7569670"
      },
      "execution_count": null,
      "outputs": [
        {
          "output_type": "execute_result",
          "data": {
            "text/plain": [
              "(20, int, '0xa40de8')"
            ]
          },
          "metadata": {},
          "execution_count": 38
        }
      ]
    },
    {
      "cell_type": "code",
      "source": [
        "s=(\"sateesh\")\n",
        "print(s*5)\n",
        "len(s)"
      ],
      "metadata": {
        "colab": {
          "base_uri": "https://localhost:8080/"
        },
        "id": "QuE52LOh5C-6",
        "outputId": "5eb34a2d-fbfc-408f-ebec-d1240f3f93ce"
      },
      "execution_count": null,
      "outputs": [
        {
          "output_type": "stream",
          "name": "stdout",
          "text": [
            "sateeshsateeshsateeshsateeshsateesh\n"
          ]
        },
        {
          "output_type": "execute_result",
          "data": {
            "text/plain": [
              "7"
            ]
          },
          "metadata": {},
          "execution_count": 40
        }
      ]
    },
    {
      "cell_type": "code",
      "source": [
        "s=\"sateeshkumarpragada\"\n",
        "print(s[0:7])\n",
        "print(s[-5:])\n",
        "print(s[:7])"
      ],
      "metadata": {
        "colab": {
          "base_uri": "https://localhost:8080/"
        },
        "id": "qNNyjsQW-Dv9",
        "outputId": "797eeecc-9977-4b26-f346-00474b87daa2"
      },
      "execution_count": null,
      "outputs": [
        {
          "output_type": "stream",
          "name": "stdout",
          "text": [
            "sateesh\n",
            "agada\n",
            "sateesh\n"
          ]
        }
      ]
    },
    {
      "cell_type": "code",
      "source": [
        "s=\"jai sree ram\"\n",
        "for i in s:\n",
        "\n",
        "  print(i)\n",
        "  print(s)"
      ],
      "metadata": {
        "colab": {
          "base_uri": "https://localhost:8080/"
        },
        "id": "RmKIkT4q_NjR",
        "outputId": "6ed77032-eace-4b99-eee5-9b77616a5b35"
      },
      "execution_count": null,
      "outputs": [
        {
          "output_type": "stream",
          "name": "stdout",
          "text": [
            "j\n",
            "jai sree ram\n",
            "a\n",
            "jai sree ram\n",
            "i\n",
            "jai sree ram\n",
            " \n",
            "jai sree ram\n",
            "s\n",
            "jai sree ram\n",
            "r\n",
            "jai sree ram\n",
            "e\n",
            "jai sree ram\n",
            "e\n",
            "jai sree ram\n",
            " \n",
            "jai sree ram\n",
            "r\n",
            "jai sree ram\n",
            "a\n",
            "jai sree ram\n",
            "m\n",
            "jai sree ram\n"
          ]
        }
      ]
    },
    {
      "cell_type": "code",
      "source": [
        "s=\"om namah sivayya\"\n",
        "for i in s:\n",
        " print(i)"
      ],
      "metadata": {
        "colab": {
          "base_uri": "https://localhost:8080/"
        },
        "id": "OeE7pBv2AQvl",
        "outputId": "efc49699-9730-44e7-b6ee-0ab1a9f99e3f"
      },
      "execution_count": null,
      "outputs": [
        {
          "output_type": "stream",
          "name": "stdout",
          "text": [
            "o\n",
            "m\n",
            " \n",
            "n\n",
            "a\n",
            "m\n",
            "a\n",
            "h\n",
            " \n",
            "s\n",
            "i\n",
            "v\n",
            "a\n",
            "y\n",
            "y\n",
            "a\n"
          ]
        }
      ]
    },
    {
      "cell_type": "code",
      "source": [
        "s=\"sateesh kumar pragada\"\n",
        "for i in s:\n",
        "  print(i)"
      ],
      "metadata": {
        "colab": {
          "base_uri": "https://localhost:8080/"
        },
        "id": "ZxcGGd4tAOOV",
        "outputId": "40f5b325-7fbc-4cfe-9cd5-c98669aa5a1a"
      },
      "execution_count": null,
      "outputs": [
        {
          "output_type": "stream",
          "name": "stdout",
          "text": [
            "s\n",
            "a\n",
            "t\n",
            "e\n",
            "e\n",
            "s\n",
            "h\n",
            " \n",
            "k\n",
            "u\n",
            "m\n",
            "a\n",
            "r\n",
            " \n",
            "p\n",
            "r\n",
            "a\n",
            "g\n",
            "a\n",
            "d\n",
            "a\n"
          ]
        }
      ]
    },
    {
      "cell_type": "code",
      "source": [
        "s=\"jai sree ram\"\n",
        "for i in enumerate(s):\n",
        "  print(i)"
      ],
      "metadata": {
        "colab": {
          "base_uri": "https://localhost:8080/"
        },
        "id": "zKk7EsOCAdNt",
        "outputId": "ae1a1148-16f6-4c4d-a23a-e65dfb725447"
      },
      "execution_count": null,
      "outputs": [
        {
          "output_type": "stream",
          "name": "stdout",
          "text": [
            "(0, 'j')\n",
            "(1, 'a')\n",
            "(2, 'i')\n",
            "(3, ' ')\n",
            "(4, 's')\n",
            "(5, 'r')\n",
            "(6, 'e')\n",
            "(7, 'e')\n",
            "(8, ' ')\n",
            "(9, 'r')\n",
            "(10, 'a')\n",
            "(11, 'm')\n"
          ]
        }
      ]
    },
    {
      "cell_type": "code",
      "source": [
        "s=\"vidhi sree\"\n",
        "print(\"vidhi\" in s)\n",
        "print(\"sree\" in s)\n",
        "print(\"yuvan\" in s)"
      ],
      "metadata": {
        "colab": {
          "base_uri": "https://localhost:8080/"
        },
        "id": "Qhlsq-8rBLVR",
        "outputId": "74f78cfa-9ba6-4a9f-cc61-972e541f95b3"
      },
      "execution_count": null,
      "outputs": [
        {
          "output_type": "stream",
          "name": "stdout",
          "text": [
            "True\n",
            "True\n",
            "False\n"
          ]
        }
      ]
    },
    {
      "cell_type": "code",
      "source": [
        "s=\"my name is sateesh kumar pragada from srikakulam\"\n",
        "p=s.partition(\"from\")\n",
        "print(p)"
      ],
      "metadata": {
        "colab": {
          "base_uri": "https://localhost:8080/"
        },
        "id": "t9AXgYzUBZgK",
        "outputId": "75af84db-9a67-4199-b2bc-452f693f0d75"
      },
      "execution_count": null,
      "outputs": [
        {
          "output_type": "stream",
          "name": "stdout",
          "text": [
            "('my name is sateesh kumar pragada ', 'from', ' srikakulam')\n"
          ]
        }
      ]
    },
    {
      "cell_type": "code",
      "source": [
        "p=\"he plays soccer every weekend\"\n",
        "o=p.partition(\"soccer\")\n",
        "print(o)"
      ],
      "metadata": {
        "colab": {
          "base_uri": "https://localhost:8080/"
        },
        "id": "3OwThyYfCCaS",
        "outputId": "71cb4c9f-3d7a-4e47-f0c8-17330d5a0691"
      },
      "execution_count": null,
      "outputs": [
        {
          "output_type": "stream",
          "name": "stdout",
          "text": [
            "('he plays ', 'soccer', ' every weekend')\n"
          ]
        }
      ]
    },
    {
      "cell_type": "code",
      "source": [
        "sat=['Sateesh','ram','charan','virat','sateesh','kohli','virat','sateesh','kumar','ram']\n",
        "#sat.count('ram')\n",
        "#sat.count('sateesh')\n",
        "sat.count('virat')\n",
        "#sat.count('charan')"
      ],
      "metadata": {
        "id": "Yo7hU0uEDEl9",
        "colab": {
          "base_uri": "https://localhost:8080/"
        },
        "outputId": "51884125-7d91-4d99-a764-c95106c8c722"
      },
      "execution_count": null,
      "outputs": [
        {
          "output_type": "execute_result",
          "data": {
            "text/plain": [
              "2"
            ]
          },
          "metadata": {},
          "execution_count": 18
        }
      ]
    },
    {
      "cell_type": "code",
      "source": [
        "for i in range(100):\n",
        "  if i%2==1:\n",
        "    print(i,end=\" \")"
      ],
      "metadata": {
        "colab": {
          "base_uri": "https://localhost:8080/"
        },
        "id": "tS3tW8WqhSas",
        "outputId": "b205fc34-5b38-4d2b-93e7-e2b84050d965"
      },
      "execution_count": null,
      "outputs": [
        {
          "output_type": "stream",
          "name": "stdout",
          "text": [
            "1 3 5 7 9 11 13 15 17 19 21 23 25 27 29 31 33 35 37 39 41 43 45 47 49 51 53 55 57 59 61 63 65 67 69 71 73 75 77 79 81 83 85 87 89 91 93 95 97 99 "
          ]
        }
      ]
    },
    {
      "cell_type": "code",
      "source": [
        "for i in range(50):\n",
        "  if i%2==0:\n",
        "    print(i,end=\" \")"
      ],
      "metadata": {
        "colab": {
          "base_uri": "https://localhost:8080/"
        },
        "id": "pV2ZrTEYh8lZ",
        "outputId": "4c034261-f723-4590-8aff-0abe286142dd"
      },
      "execution_count": null,
      "outputs": [
        {
          "output_type": "stream",
          "name": "stdout",
          "text": [
            "0 2 4 6 8 10 12 14 16 18 20 22 24 26 28 30 32 34 36 38 40 42 44 46 48 "
          ]
        }
      ]
    },
    {
      "cell_type": "code",
      "source": [
        "p=[1,2,3,4,0]\n",
        "for i in p:\n",
        "  print(i)"
      ],
      "metadata": {
        "colab": {
          "base_uri": "https://localhost:8080/"
        },
        "id": "4k6ngBtWiHcM",
        "outputId": "a5d9a859-1654-48da-c7e6-6f027c052358"
      },
      "execution_count": null,
      "outputs": [
        {
          "output_type": "stream",
          "name": "stdout",
          "text": [
            "1\n",
            "2\n",
            "3\n",
            "4\n",
            "0\n"
          ]
        }
      ]
    },
    {
      "cell_type": "code",
      "source": [
        "s=[1,3,5,7,9,0]\n",
        "all(s)\n",
        "#any(s)"
      ],
      "metadata": {
        "colab": {
          "base_uri": "https://localhost:8080/"
        },
        "id": "VUnWmfJpiysK",
        "outputId": "32b6bc70-c489-4060-8717-b2942124749b"
      },
      "execution_count": null,
      "outputs": [
        {
          "output_type": "execute_result",
          "data": {
            "text/plain": [
              "False"
            ]
          },
          "metadata": {},
          "execution_count": 31
        }
      ]
    },
    {
      "cell_type": "code",
      "source": [
        "s1=(1,2,3,4,'true')\n",
        "all(s1)\n",
        "any(s1)"
      ],
      "metadata": {
        "colab": {
          "base_uri": "https://localhost:8080/"
        },
        "id": "AjRV26EUjPJg",
        "outputId": "20ecd4d4-c89e-4104-8d35-6bf022c14fbe"
      },
      "execution_count": null,
      "outputs": [
        {
          "output_type": "execute_result",
          "data": {
            "text/plain": [
              "True"
            ]
          },
          "metadata": {},
          "execution_count": 34
        }
      ]
    },
    {
      "cell_type": "code",
      "source": [
        "s=[2,4,6,8,10]\n",
        "s=[i*10 for i in s]\n",
        "print(s)"
      ],
      "metadata": {
        "colab": {
          "base_uri": "https://localhost:8080/"
        },
        "id": "t7-YS0PQkNS2",
        "outputId": "c46ac69d-2e18-4b95-d4a1-28ea6ec56631"
      },
      "execution_count": null,
      "outputs": [
        {
          "output_type": "stream",
          "name": "stdout",
          "text": [
            "[20, 40, 60, 80, 100]\n"
          ]
        }
      ]
    },
    {
      "cell_type": "code",
      "source": [
        "list1 = [2,3,4,5,6,7,8]\n",
        "list1 = [i*10 for i in list1]\n",
        "print(list1)"
      ],
      "metadata": {
        "colab": {
          "base_uri": "https://localhost:8080/"
        },
        "id": "WM0Lp5gflFV1",
        "outputId": "ab4fc6f1-66e5-40b7-ac4d-86b737dfde42"
      },
      "execution_count": null,
      "outputs": [
        {
          "output_type": "stream",
          "name": "stdout",
          "text": [
            "[20, 30, 40, 50, 60, 70, 80]\n"
          ]
        }
      ]
    },
    {
      "cell_type": "code",
      "source": [
        "for i in range(200):\n",
        "  if i%9==0:\n",
        "    if i%6==0:\n",
        "\n",
        "     print(i,end=\" \")"
      ],
      "metadata": {
        "colab": {
          "base_uri": "https://localhost:8080/"
        },
        "id": "Z8VsBAxQlslC",
        "outputId": "47e92ca3-9095-4fe1-dc00-229beb118358"
      },
      "execution_count": null,
      "outputs": [
        {
          "output_type": "stream",
          "name": "stdout",
          "text": [
            "0 18 36 54 72 90 108 126 144 162 180 198 "
          ]
        }
      ]
    },
    {
      "cell_type": "code",
      "source": [
        "s={1,2,3,5,7,9,}\n",
        "k={2,4,6,8,10}\n",
        "#s. intersection(k)\n",
        "#s.union(k)\n",
        "#k.add(12)\n",
        "s.remove(2)\n",
        "print(s)\n"
      ],
      "metadata": {
        "colab": {
          "base_uri": "https://localhost:8080/"
        },
        "id": "9dia_vLdmI3F",
        "outputId": "4537d9ce-29ca-415f-fc11-1a220f785f3c"
      },
      "execution_count": null,
      "outputs": [
        {
          "output_type": "stream",
          "name": "stdout",
          "text": [
            "{1, 3, 5, 7, 9}\n"
          ]
        }
      ]
    },
    {
      "cell_type": "code",
      "source": [
        "from textwrap import shorten\n",
        "a={1,14,1345,12345,5321}\n",
        "#sum(a)\n",
        "len(a)"
      ],
      "metadata": {
        "colab": {
          "base_uri": "https://localhost:8080/"
        },
        "id": "s-xx-oAWpxHh",
        "outputId": "b9fa0a79-ab7f-4e00-8780-829fe984e69b"
      },
      "execution_count": null,
      "outputs": [
        {
          "output_type": "execute_result",
          "data": {
            "text/plain": [
              "5"
            ]
          },
          "metadata": {},
          "execution_count": 62
        }
      ]
    },
    {
      "cell_type": "code",
      "source": [
        "k={9,8,7,6,5,4,3,2,1}\n",
        "s={1,2,3,4,5,6,7,8,9}\n",
        "#sorted(k)\n",
        "d=sorted (s,reverse=True)\n",
        "print(d)"
      ],
      "metadata": {
        "colab": {
          "base_uri": "https://localhost:8080/"
        },
        "id": "HBvPn3sMp8iQ",
        "outputId": "e31c287d-3c8d-4354-adbf-eb96f8981122"
      },
      "execution_count": null,
      "outputs": [
        {
          "output_type": "stream",
          "name": "stdout",
          "text": [
            "[9, 8, 7, 6, 5, 4, 3, 2, 1]\n"
          ]
        }
      ]
    },
    {
      "cell_type": "code",
      "source": [
        "s={1:'one','a':'two',3:'three','b':'four'}\n",
        "s.keys()\n",
        "#print(s)"
      ],
      "metadata": {
        "colab": {
          "base_uri": "https://localhost:8080/"
        },
        "id": "3_5jbSWtrwsX",
        "outputId": "71035fc5-fd91-46c6-8ace-291286cd6189"
      },
      "execution_count": null,
      "outputs": [
        {
          "output_type": "execute_result",
          "data": {
            "text/plain": [
              "dict_keys([1, 'a', 3, 'b'])"
            ]
          },
          "metadata": {},
          "execution_count": 13
        }
      ]
    },
    {
      "cell_type": "code",
      "source": [
        "k=dict({1:'one',2:'two',3:'three',4:'four'})\n",
        "print(k)"
      ],
      "metadata": {
        "colab": {
          "base_uri": "https://localhost:8080/"
        },
        "id": "irKvGFbRSaoy",
        "outputId": "d71b2d94-7363-40e3-911b-35c55998b773"
      },
      "execution_count": null,
      "outputs": [
        {
          "output_type": "stream",
          "name": "stdout",
          "text": [
            "{1: 'one', 2: 'two', 3: 'three', 4: 'four'}\n"
          ]
        }
      ]
    },
    {
      "cell_type": "code",
      "source": [
        "p={1:'one','a':'two',3:'three','b':'four'}\n",
        "p.values()"
      ],
      "metadata": {
        "colab": {
          "base_uri": "https://localhost:8080/"
        },
        "id": "5mbFKE1mTjm2",
        "outputId": "4b0d1b3f-2780-4fc6-a508-60aaf12ca8f3"
      },
      "execution_count": null,
      "outputs": [
        {
          "output_type": "execute_result",
          "data": {
            "text/plain": [
              "dict_values(['one', 'two', 'three', 'four'])"
            ]
          },
          "metadata": {},
          "execution_count": 15
        }
      ]
    },
    {
      "cell_type": "code",
      "source": [
        "e=s={1:'one','a':'two',3:'three','b':'four'}\n",
        "e.items()"
      ],
      "metadata": {
        "colab": {
          "base_uri": "https://localhost:8080/"
        },
        "id": "icHWgEXATyQj",
        "outputId": "c005b2dd-3c08-4ee6-989b-608df3fbf992"
      },
      "execution_count": null,
      "outputs": [
        {
          "output_type": "execute_result",
          "data": {
            "text/plain": [
              "dict_items([(1, 'one'), ('a', 'two'), (3, 'three'), ('b', 'four')])"
            ]
          },
          "metadata": {},
          "execution_count": 16
        }
      ]
    },
    {
      "cell_type": "code",
      "source": [
        "a={1:'one','a':'two','c':['sateesh','ram','charan'],3:'three','b':['virat','kohli','anuska']}\n",
        "print(a)\n"
      ],
      "metadata": {
        "colab": {
          "base_uri": "https://localhost:8080/"
        },
        "id": "APPNo9YzUIW5",
        "outputId": "e7599103-bf06-4e6d-df88-71228585331d"
      },
      "execution_count": null,
      "outputs": [
        {
          "output_type": "stream",
          "name": "stdout",
          "text": [
            "{1: 'one', 'a': 'two', 'c': ['sateesh', 'ram', 'charan'], 3: 'three', 'b': ['virat', 'kohli', 'anuska']}\n"
          ]
        }
      ]
    },
    {
      "cell_type": "code",
      "source": [
        "sat={'a','b','c','d'}\n",
        "kum=dict.fromkeys(sat)\n",
        "print(kum)\n"
      ],
      "metadata": {
        "colab": {
          "base_uri": "https://localhost:8080/"
        },
        "id": "xIF9X45EU2ZR",
        "outputId": "eb8ce1d2-dc84-458c-d240-3d1f1075e81a"
      },
      "execution_count": null,
      "outputs": [
        {
          "output_type": "stream",
          "name": "stdout",
          "text": [
            "{'c': None, 'd': None, 'b': None, 'a': None}\n"
          ]
        }
      ]
    },
    {
      "cell_type": "code",
      "source": [
        "sati={'s','a','t','e','e','s','h'}\n",
        "val=50\n",
        "kumr=dict.fromkeys(sati,val)\n",
        "print(kumr)"
      ],
      "metadata": {
        "colab": {
          "base_uri": "https://localhost:8080/"
        },
        "id": "67y71EFdVWsv",
        "outputId": "c50c2006-184a-441d-e881-19796800dff7"
      },
      "execution_count": null,
      "outputs": [
        {
          "output_type": "stream",
          "name": "stdout",
          "text": [
            "{'h': 50, 's': 50, 'e': 50, 't': 50, 'a': 50}\n"
          ]
        }
      ]
    },
    {
      "cell_type": "code",
      "source": [
        "profile={'name':'sateesh','age':25,'dob':1999,'job':'software','addres':'vizag'}\n",
        "profile['addres']='Hydrabadh'\n",
        "#profile['name']\n",
        "#profile['age']\n",
        "#profile['name']='sateesh kumar'\n",
        "print(profile)"
      ],
      "metadata": {
        "colab": {
          "base_uri": "https://localhost:8080/"
        },
        "id": "K1BjPdEEWA-t",
        "outputId": "ea625c94-cc11-44ee-c590-095031380eb7"
      },
      "execution_count": null,
      "outputs": [
        {
          "output_type": "stream",
          "name": "stdout",
          "text": [
            "{'name': 'sateesh', 'age': 25, 'dob': 1999, 'job': 'software', 'addres': 'Hydrabadh'}\n"
          ]
        }
      ]
    },
    {
      "cell_type": "code",
      "source": [
        "profile={'name':'sateesh','age':25,'DOB':1999,'job':'software','addres':'vizag'}\n",
        "change={'DOB':2000}\n",
        "profile.update(change)\n",
        "print(profile)"
      ],
      "metadata": {
        "colab": {
          "base_uri": "https://localhost:8080/"
        },
        "id": "zmPcupRzco0R",
        "outputId": "e9c6d58f-c01d-441f-fadc-679efb1d6450"
      },
      "execution_count": null,
      "outputs": [
        {
          "output_type": "stream",
          "name": "stdout",
          "text": [
            "{'name': 'sateesh', 'age': 25, 'DOB': 2000, 'job': 'software', 'addres': 'vizag'}\n"
          ]
        }
      ]
    },
    {
      "cell_type": "code",
      "source": [
        "profile={'name':'sateesh','age':25,'dob':1999,'job':'software','addres':'vizag'}\n",
        "profile ['job']='army'\n",
        "print(profile)"
      ],
      "metadata": {
        "colab": {
          "base_uri": "https://localhost:8080/"
        },
        "id": "kxP2dA-KdMUD",
        "outputId": "9347c3d7-53ea-4157-a9ef-72afcf29e475"
      },
      "execution_count": null,
      "outputs": [
        {
          "output_type": "stream",
          "name": "stdout",
          "text": [
            "{'name': 'sateesh', 'age': 25, 'dob': 1999, 'job': 'army', 'addres': 'vizag'}\n"
          ]
        }
      ]
    },
    {
      "cell_type": "code",
      "source": [
        "profile={'name':'sateesh','age':25,'dob':1999,'job':'software','addres':'vizag'}\n",
        "profile.pop('job')\n",
        "print(profile)"
      ],
      "metadata": {
        "colab": {
          "base_uri": "https://localhost:8080/"
        },
        "id": "hDcaqAmheSrT",
        "outputId": "3107090f-c49c-4578-b8cd-cd39e615f056"
      },
      "execution_count": null,
      "outputs": [
        {
          "output_type": "stream",
          "name": "stdout",
          "text": [
            "{'name': 'sateesh', 'age': 25, 'dob': 1999, 'addres': 'vizag'}\n"
          ]
        }
      ]
    },
    {
      "cell_type": "code",
      "source": [
        "profile={'name':'sateesh','age':25,'dob':1999,'job':'software','addres':'vizag'}\n",
        "for i in profile:\n",
        "  print(i,':',profile[i])"
      ],
      "metadata": {
        "colab": {
          "base_uri": "https://localhost:8080/"
        },
        "id": "1x2sQS0CrDVt",
        "outputId": "b59fecc9-af92-4e01-f9fa-29473711f4b0"
      },
      "execution_count": null,
      "outputs": [
        {
          "output_type": "stream",
          "name": "stdout",
          "text": [
            "name : sateesh\n",
            "age : 25\n",
            "dob : 1999\n",
            "job : software\n",
            "addres : vizag\n"
          ]
        }
      ]
    },
    {
      "cell_type": "code",
      "source": [
        "profile={'name':'sateesh','age':25,'dob':1999,'job':'software','addres':'vizag'}\n",
        "#for i in profile:\n",
        "  #print(profile[i])\n",
        "all(profile)"
      ],
      "metadata": {
        "colab": {
          "base_uri": "https://localhost:8080/"
        },
        "id": "jUGoneWbr2bD",
        "outputId": "baf5d882-c7d7-4e81-ab22-893dc6d17e21"
      },
      "execution_count": null,
      "outputs": [
        {
          "output_type": "execute_result",
          "data": {
            "text/plain": [
              "True"
            ]
          },
          "metadata": {},
          "execution_count": 62
        }
      ]
    },
    {
      "cell_type": "code",
      "source": [
        "class person:\n",
        "  def __init__(self,name,age):\n",
        "   self.name=name\n",
        "   self.age=age\n",
        "p1=person('sateesh',25)\n",
        "print(p1.name)\n",
        "print(p1.age)"
      ],
      "metadata": {
        "id": "NagC-EOIsZh3",
        "colab": {
          "base_uri": "https://localhost:8080/"
        },
        "outputId": "41c29f7d-3297-483e-d7e0-8d767fda6392"
      },
      "execution_count": null,
      "outputs": [
        {
          "output_type": "stream",
          "name": "stdout",
          "text": [
            "sateesh\n",
            "25\n"
          ]
        }
      ]
    },
    {
      "cell_type": "code",
      "source": [
        "class profile:\n",
        "  def __init__(self,name,score):\n",
        "    self.name=name\n",
        "    self.score=score\n",
        "p2=profile(\"virat\",100)\n",
        "print(p2.name)\n",
        "print(p2.score)"
      ],
      "metadata": {
        "colab": {
          "base_uri": "https://localhost:8080/"
        },
        "id": "iet5g7ZcdY0U",
        "outputId": "e5d6dd0e-e190-4ed6-b3bf-93ded006f67b"
      },
      "execution_count": null,
      "outputs": [
        {
          "output_type": "stream",
          "name": "stdout",
          "text": [
            "virat\n",
            "100\n"
          ]
        }
      ]
    },
    {
      "cell_type": "code",
      "source": [
        "s=int(input('enter jersy number'))\n",
        "class match:\n",
        "  def display(self):\n",
        "    print(\"ind vs pak\")\n",
        "class profile(match):\n",
        "  def screen(self):\n",
        "    print('profile')\n",
        "    print('-------------')\n",
        "    print('name','virat')\n",
        "    print('birth','delhi')\n",
        "    print('role','batsman')\n",
        "    print('best',183)\n",
        "class score(profile):\n",
        "  def output(self):\n",
        "    print('match details')\n",
        "    print('-------------')\n",
        "    print('score',100)\n",
        "    print('oppo team','pak')\n",
        "    print('balls',111)\n",
        "    print('fours',7)\n",
        "    print('dot balls',50)\n",
        "    print('singels',40)\n",
        "\n",
        "d=score()\n",
        "d.display()\n",
        "d.screen()\n",
        "d.output()\n",
        "#multi level inheritance\n"
      ],
      "metadata": {
        "colab": {
          "base_uri": "https://localhost:8080/"
        },
        "id": "96lTlTbMebFd",
        "outputId": "da73f90c-2d56-4bb2-d0f0-cc8029af3b91"
      },
      "execution_count": null,
      "outputs": [
        {
          "output_type": "stream",
          "name": "stdout",
          "text": [
            "enter jersy number18\n",
            "ind vs pak\n",
            "profile\n",
            "-------------\n",
            "name virat\n",
            "birth delhi\n",
            "role batsman\n",
            "best 183\n",
            "match details\n",
            "-------------\n",
            "score 100\n",
            "oppo team pak\n",
            "balls 111\n",
            "fours 7\n",
            "dot balls 50\n",
            "singels 40\n"
          ]
        }
      ]
    },
    {
      "cell_type": "code",
      "source": [
        "class sat:\n",
        "  def __init__ (self,name,clas):\n",
        "    self.name=name\n",
        "    self.clas=clas\n",
        "p1=sat('ram','degree')\n",
        "print(p1.name)\n",
        "print(p1.clas)\n",
        "#constructor\n"
      ],
      "metadata": {
        "colab": {
          "base_uri": "https://localhost:8080/"
        },
        "id": "2UnmlQlQiwuf",
        "outputId": "42ab7101-7809-437e-e61e-403b237362ec"
      },
      "execution_count": null,
      "outputs": [
        {
          "output_type": "stream",
          "name": "stdout",
          "text": [
            "ram\n",
            "degree\n"
          ]
        }
      ]
    },
    {
      "cell_type": "code",
      "source": [
        "class sat():\n",
        "  def display(self):\n",
        "    print(\"looking beautiful\")\n",
        "class ram(sat):\n",
        "  def screen(self):\n",
        "    print(\"looking good\")\n",
        "class virat(ram):\n",
        "  def output(self):\n",
        "    print(\"looking not good\")\n",
        "d=virat()\n",
        "d.display()\n",
        "d.screen()\n",
        "d.output()"
      ],
      "metadata": {
        "colab": {
          "base_uri": "https://localhost:8080/"
        },
        "id": "WajTe8IBiyxF",
        "outputId": "27964572-5877-4fca-a85d-d38fbd468927"
      },
      "execution_count": null,
      "outputs": [
        {
          "output_type": "stream",
          "name": "stdout",
          "text": [
            "looking beautiful\n",
            "looking good\n",
            "looking not good\n"
          ]
        }
      ]
    },
    {
      "cell_type": "code",
      "source": [
        "class ram():\n",
        "  def display(self):\n",
        "    print(\"hello ram\")\n",
        "class virt(ram):\n",
        "  def screen(self):\n",
        "    print('hello virat')\n",
        "class sat(ram):\n",
        "  def displaay(self):\n",
        "    print(\"hello sateesh\")\n",
        "d=sat()\n",
        "d.displaay()\n",
        "d.display()\n",
        "#hierarchial inheritance\n"
      ],
      "metadata": {
        "colab": {
          "base_uri": "https://localhost:8080/"
        },
        "id": "2qSiAKqcpSyw",
        "outputId": "e7ba2f16-4d2a-4ae7-8759-24afefeaf261"
      },
      "execution_count": null,
      "outputs": [
        {
          "output_type": "stream",
          "name": "stdout",
          "text": [
            "hello sateesh\n",
            "hello ram\n"
          ]
        }
      ]
    },
    {
      "cell_type": "code",
      "source": [
        "s=int(input(\"enter a number\"))\n",
        "sum=0\n",
        "while(s<=200):\n",
        "     sum=sum+s\n",
        "     s=s+2\n",
        "print(sum)"
      ],
      "metadata": {
        "colab": {
          "base_uri": "https://localhost:8080/"
        },
        "id": "TVADZsnJqond",
        "outputId": "f36f6a75-3ee3-4e89-d869-6e9b9c7ed9b5"
      },
      "execution_count": null,
      "outputs": [
        {
          "output_type": "stream",
          "name": "stdout",
          "text": [
            "enter a number20\n",
            "10010\n"
          ]
        }
      ]
    },
    {
      "cell_type": "code",
      "source": [
        "s=int(input('enter a value'))\n",
        "sum=0\n",
        "while(s<=500):\n",
        "  sum=sum+s\n",
        "  s=s+2\n",
        "print(sum)"
      ],
      "metadata": {
        "colab": {
          "base_uri": "https://localhost:8080/"
        },
        "id": "yq9rHVSEczHA",
        "outputId": "2996881d-c708-4b0d-9228-4cab5296b743"
      },
      "execution_count": null,
      "outputs": [
        {
          "output_type": "stream",
          "name": "stdout",
          "text": [
            "enter a value39\n",
            "62139\n"
          ]
        }
      ]
    },
    {
      "cell_type": "code",
      "source": [
        "\n",
        "try:\n",
        "  #x=int(input('enter a value'))\n",
        "  print(x)\n",
        "#except NameError:\n",
        "  #print(\"varible not declared\")\n",
        "except:\n",
        "  print('something went wrong')\n",
        "print('end')"
      ],
      "metadata": {
        "colab": {
          "base_uri": "https://localhost:8080/"
        },
        "id": "spkWmJ2CnyFZ",
        "outputId": "00e8bc16-8cf1-4422-826e-837c0c2dcd2b"
      },
      "execution_count": null,
      "outputs": [
        {
          "output_type": "stream",
          "name": "stdout",
          "text": [
            "18\n",
            "end\n"
          ]
        }
      ]
    },
    {
      "cell_type": "code",
      "source": [
        "try:\n",
        "  print(s)\n",
        "except:\n",
        "    print('something went wrong')\n",
        "else:\n",
        "  print('sateesh')\n",
        "finally:\n",
        "  print('program end')\n",
        "\n"
      ],
      "metadata": {
        "colab": {
          "base_uri": "https://localhost:8080/"
        },
        "id": "JTbQ6LIqpu4H",
        "outputId": "133e5615-5f4e-4e09-c6e0-23e3e19784ed"
      },
      "execution_count": null,
      "outputs": [
        {
          "output_type": "stream",
          "name": "stdout",
          "text": [
            "18\n",
            "sateesh\n",
            "program end\n"
          ]
        }
      ]
    },
    {
      "cell_type": "code",
      "source": [
        "try:\n",
        "  s=5\n",
        "  print(s/p)\n",
        "except NameError:\n",
        "    print('something went wrong')\n",
        "except ZeroDivisionError:\n",
        "  print('value cannot be divided by zero')\n",
        "finally:\n",
        "  print('program end')"
      ],
      "metadata": {
        "colab": {
          "base_uri": "https://localhost:8080/"
        },
        "id": "9FZGhdvwpt9y",
        "outputId": "7f4c4568-077c-45d8-d2c5-5ac28b65ba4a"
      },
      "execution_count": null,
      "outputs": [
        {
          "output_type": "stream",
          "name": "stdout",
          "text": [
            "value cannot be divided by zero\n",
            "program end\n"
          ]
        }
      ]
    },
    {
      "cell_type": "code",
      "source": [
        "class singl():\n",
        "  def display(self):\n",
        "    print(\"good morning\")\n",
        "class dua(singl):\n",
        "  def screen(self):\n",
        "    print('good evening')\n",
        "d=dua()\n",
        "d.display()\n",
        "d.screen()\n",
        "#single level inheritance"
      ],
      "metadata": {
        "id": "GRZg3JoPvB2T",
        "colab": {
          "base_uri": "https://localhost:8080/"
        },
        "outputId": "29222604-376f-4066-c30e-b55899172fab"
      },
      "execution_count": null,
      "outputs": [
        {
          "output_type": "stream",
          "name": "stdout",
          "text": [
            "good morning\n",
            "good evening\n"
          ]
        }
      ]
    },
    {
      "cell_type": "code",
      "source": [
        "class kohli():\n",
        "  def display(self):\n",
        "    print('highest run getter')\n",
        "class rohit():\n",
        "  def screen(self):\n",
        "    print('highest odi runs')\n",
        "class dhoni(kohli,rohit):\n",
        "  def output(self):\n",
        "    print('highest test runs')\n",
        "d=dhoni()\n",
        "d.display()\n",
        "d.screen()\n",
        "d.output()\n",
        "#multiple inheritance\n"
      ],
      "metadata": {
        "colab": {
          "base_uri": "https://localhost:8080/"
        },
        "id": "E51JoKjaIULf",
        "outputId": "7560163f-2954-4971-c367-fcd32b1cb0a6"
      },
      "execution_count": null,
      "outputs": [
        {
          "output_type": "stream",
          "name": "stdout",
          "text": [
            "highest run getter\n",
            "highest odi runs\n",
            "highest test runs\n"
          ]
        }
      ]
    },
    {
      "cell_type": "markdown",
      "source": [
        "object=physical entity\n",
        "we can create any no of object for class\n",
        "object name=class name\n"
      ],
      "metadata": {
        "id": "aE8LzDLRQNyn"
      }
    },
    {
      "cell_type": "markdown",
      "source": [
        "**try**- the try block will genarate an exception\n",
        "\n",
        "\n",
        "**except**-this block handle the error\n"
      ],
      "metadata": {
        "id": "suOCGWjS41RO"
      }
    },
    {
      "cell_type": "code",
      "source": [
        "print(\"hello\")\n",
        "try:\n",
        "  print(10/0)\n",
        "except ZeroDivisionError:\n",
        "  print(\"end of the program\")"
      ],
      "metadata": {
        "colab": {
          "base_uri": "https://localhost:8080/"
        },
        "id": "xJ0ahdJe5Q06",
        "outputId": "9c15ecd1-316f-4013-c49b-0bb78281b89f"
      },
      "execution_count": null,
      "outputs": [
        {
          "output_type": "stream",
          "name": "stdout",
          "text": [
            "hello\n",
            "end of the program\n"
          ]
        }
      ]
    },
    {
      "cell_type": "code",
      "source": [
        "try:\n",
        " a=int(input('enter a number'))\n",
        " b=int(input('enter b number'))\n",
        " print(a/b)\n",
        "except ArithmeticError:\n",
        "  print('ArithmeticErro')\n",
        "except ZeroDivisionError:\n",
        "  print('ZeroDivisionError')"
      ],
      "metadata": {
        "colab": {
          "base_uri": "https://localhost:8080/"
        },
        "id": "IUcANY4q_HbP",
        "outputId": "38785563-61a9-4699-e1a2-545c0a789e30"
      },
      "execution_count": null,
      "outputs": [
        {
          "output_type": "stream",
          "name": "stdout",
          "text": [
            "enter a number898\n",
            "enter b number989\n",
            "0.9079878665318504\n"
          ]
        }
      ]
    },
    {
      "cell_type": "code",
      "source": [
        "try:\n",
        "  print('try block')\n",
        "  print(10/0)\n",
        "except ZeroDivisionError:\n",
        "  print('except block')\n",
        "finally:\n",
        "  print('finally block')\n",
        "  print('end of the program')\n"
      ],
      "metadata": {
        "colab": {
          "base_uri": "https://localhost:8080/"
        },
        "id": "uAjR9-j9E0kr",
        "outputId": "8b617c4f-89ee-4508-c376-5a50c360d0c3"
      },
      "execution_count": null,
      "outputs": [
        {
          "output_type": "stream",
          "name": "stdout",
          "text": [
            "try block\n",
            "except block\n",
            "finally block\n",
            "end of the program\n"
          ]
        }
      ]
    },
    {
      "cell_type": "code",
      "source": [
        "try:\n",
        "  stat-1\n",
        "  stat-2 #stat 1 is an error it directly moves to except block it means stat-3\n",
        "         #stat-4,stat-5\n",
        "except:\n",
        "  stat-3\n",
        "finally:\n",
        "  stat-4\n",
        "stat-5"
      ],
      "metadata": {
        "id": "92RjWuo4F3rd"
      },
      "execution_count": null,
      "outputs": []
    },
    {
      "cell_type": "code",
      "source": [
        "i=1\n",
        "while (i<10):\n",
        "  print(i)\n",
        "  i=i+1"
      ],
      "metadata": {
        "colab": {
          "base_uri": "https://localhost:8080/"
        },
        "id": "eYfJsVOwS6k8",
        "outputId": "4ca7e93c-9ae0-4fe0-9370-3a72b8530a89"
      },
      "execution_count": 1,
      "outputs": [
        {
          "output_type": "stream",
          "name": "stdout",
          "text": [
            "1\n",
            "2\n",
            "3\n",
            "4\n",
            "5\n",
            "6\n",
            "7\n",
            "8\n",
            "9\n"
          ]
        }
      ]
    },
    {
      "cell_type": "code",
      "source": [
        "i=1\n",
        "while(i<=10):\n",
        "  print('2X',i,'=',2*i)\n",
        "  i=i+1"
      ],
      "metadata": {
        "colab": {
          "base_uri": "https://localhost:8080/"
        },
        "id": "D9V49b7LVQDG",
        "outputId": "ebd5066c-9dcf-47cc-bc3f-0ef0664a2631"
      },
      "execution_count": 8,
      "outputs": [
        {
          "output_type": "stream",
          "name": "stdout",
          "text": [
            "2X 1 = 2\n",
            "2X 2 = 4\n",
            "2X 3 = 6\n",
            "2X 4 = 8\n",
            "2X 5 = 10\n",
            "2X 6 = 12\n",
            "2X 7 = 14\n",
            "2X 8 = 16\n",
            "2X 9 = 18\n",
            "2X 10 = 20\n"
          ]
        }
      ]
    },
    {
      "cell_type": "code",
      "source": [
        "for i in range(1,7):\n",
        "  for j in range(1,i+1):\n",
        "     print(j,end='')\n",
        "  print()"
      ],
      "metadata": {
        "colab": {
          "base_uri": "https://localhost:8080/"
        },
        "id": "wi7fFYJ9Vtk7",
        "outputId": "ee764681-1055-4a3e-8ebe-a49638c70570"
      },
      "execution_count": 12,
      "outputs": [
        {
          "output_type": "stream",
          "name": "stdout",
          "text": [
            "1\n",
            "12\n",
            "123\n",
            "1234\n",
            "12345\n",
            "123456\n"
          ]
        }
      ]
    },
    {
      "cell_type": "code",
      "source": [
        "i=3\n",
        "a=1\n",
        "while(a<=10):\n",
        "  print(i,'X',a,'=',a*i)\n",
        "  a=a+1"
      ],
      "metadata": {
        "colab": {
          "base_uri": "https://localhost:8080/"
        },
        "id": "wG14CFYxW4Fq",
        "outputId": "8ca7d834-fbc6-471b-8e3a-4270dbdc5ad1"
      },
      "execution_count": 19,
      "outputs": [
        {
          "output_type": "stream",
          "name": "stdout",
          "text": [
            "3 X 1 = 3\n",
            "3 X 2 = 6\n",
            "3 X 3 = 9\n",
            "3 X 4 = 12\n",
            "3 X 5 = 15\n",
            "3 X 6 = 18\n",
            "3 X 7 = 21\n",
            "3 X 8 = 24\n",
            "3 X 9 = 27\n",
            "3 X 10 = 30\n"
          ]
        }
      ]
    },
    {
      "cell_type": "code",
      "source": [
        "s=int(input('enter a value'))\n",
        "if (s>=18):\n",
        "  print('person eligible to vote')\n",
        "elif(s<=18):\n",
        "  print('person not eligible to ovte')\n",
        "else:\n",
        "  print('already ovted')"
      ],
      "metadata": {
        "colab": {
          "base_uri": "https://localhost:8080/"
        },
        "id": "OTV0yH55XvxQ",
        "outputId": "eb1af749-a4da-4059-f111-ade5889024ab"
      },
      "execution_count": 22,
      "outputs": [
        {
          "output_type": "stream",
          "name": "stdout",
          "text": [
            "enter a value18\n",
            "person eligible to vote\n"
          ]
        }
      ]
    },
    {
      "cell_type": "code",
      "source": [
        "class ram():\n",
        "  def __init__ (self,name,age):\n",
        "    self.name=name\n",
        "    self.age=age\n",
        "p1=ram('ram','38')\n",
        "print(p1.name)\n",
        "print(p1.age)\n"
      ],
      "metadata": {
        "colab": {
          "base_uri": "https://localhost:8080/"
        },
        "id": "CVT8O4vmY0yU",
        "outputId": "a7f7afdb-bc1f-410a-b3fd-1785b5799619"
      },
      "execution_count": 25,
      "outputs": [
        {
          "output_type": "stream",
          "name": "stdout",
          "text": [
            "ram\n",
            "38\n"
          ]
        }
      ]
    },
    {
      "cell_type": "code",
      "source": [
        "class ram():\n",
        "  def __init__ (self,a,b):\n",
        "    self.__a=a\n",
        "    self._b=b\n",
        "class charan(ram):\n",
        "  def display(self):\n",
        "     print(self._b)\n",
        "d=charan(18,25)\n",
        "d.display()"
      ],
      "metadata": {
        "colab": {
          "base_uri": "https://localhost:8080/"
        },
        "id": "h_oLKvVIZ5RA",
        "outputId": "8e900cc7-2ca1-4d41-c6a0-d65b926e9e8a"
      },
      "execution_count": 33,
      "outputs": [
        {
          "output_type": "stream",
          "name": "stdout",
          "text": [
            "25\n"
          ]
        }
      ]
    },
    {
      "cell_type": "code",
      "source": [
        "s=\"sateesh\"\n",
        "for i in s:\n",
        "  print(i)"
      ],
      "metadata": {
        "colab": {
          "base_uri": "https://localhost:8080/"
        },
        "id": "P6gxD8EdbswP",
        "outputId": "5943d603-bbc3-4d51-b1dc-b71258b78733"
      },
      "execution_count": 35,
      "outputs": [
        {
          "output_type": "stream",
          "name": "stdout",
          "text": [
            "s\n",
            "a\n",
            "t\n",
            "e\n",
            "e\n",
            "s\n",
            "h\n"
          ]
        }
      ]
    },
    {
      "cell_type": "code",
      "source": [
        "s='sateesh kumar'\n",
        "print (len(s))"
      ],
      "metadata": {
        "colab": {
          "base_uri": "https://localhost:8080/"
        },
        "id": "dHsZEtJ6cL6X",
        "outputId": "3cf85531-6427-479b-f2fb-6044df4d16fc"
      },
      "execution_count": 37,
      "outputs": [
        {
          "output_type": "stream",
          "name": "stdout",
          "text": [
            "13\n"
          ]
        }
      ]
    },
    {
      "cell_type": "code",
      "source": [
        "from ast import Add\n",
        "s=['sateesh','kumar','ram']\n",
        "#s.append('charan')\n",
        "#s.remove('ram')\n",
        "#len(s)\n",
        "\n",
        "#print(s)"
      ],
      "metadata": {
        "colab": {
          "base_uri": "https://localhost:8080/"
        },
        "id": "axD8QDzWcZG-",
        "outputId": "7653e820-8ce9-414c-a0ab-017efb00ee6d"
      },
      "execution_count": 44,
      "outputs": [
        {
          "output_type": "execute_result",
          "data": {
            "text/plain": [
              "3"
            ]
          },
          "metadata": {},
          "execution_count": 44
        }
      ]
    },
    {
      "cell_type": "code",
      "source": [
        "s=['ram charan','sat','ram','star']\n",
        "k=['virat kohli']\n",
        "#print(s+k)\n",
        "print(s[1:2])\n"
      ],
      "metadata": {
        "colab": {
          "base_uri": "https://localhost:8080/"
        },
        "id": "laWFKi7mdU58",
        "outputId": "7f709e3e-a2ee-487d-fd8b-91744b9a06ab"
      },
      "execution_count": 51,
      "outputs": [
        {
          "output_type": "stream",
          "name": "stdout",
          "text": [
            "['sat']\n"
          ]
        }
      ]
    },
    {
      "cell_type": "code",
      "source": [
        "try:\n",
        "    print('sateesh kumar')\n",
        "except TypeError:\n",
        "    print(\"typr error\")\n",
        "except ValueError:\n",
        "    print('value error')\n",
        "class pythonlife():\n",
        "    s=3\n",
        "    print(s)\n"
      ],
      "metadata": {
        "colab": {
          "base_uri": "https://localhost:8080/"
        },
        "id": "vwtkP4fJ3VRh",
        "outputId": "50017a0d-8e39-46bf-f828-2f863c1a0242"
      },
      "execution_count": 52,
      "outputs": [
        {
          "output_type": "stream",
          "name": "stdout",
          "text": [
            "sateesh kumar\n",
            "3\n"
          ]
        }
      ]
    },
    {
      "cell_type": "code",
      "source": [
        "class sateesh():\n",
        "    s=18\n",
        "    def output(self):\n",
        "        print(self.s)\n",
        "b=sateesh()\n",
        "b.output()\n"
      ],
      "metadata": {
        "colab": {
          "base_uri": "https://localhost:8080/"
        },
        "id": "8wnzQ2y63qgp",
        "outputId": "c48c4384-4909-4b34-99ff-b444813c827a"
      },
      "execution_count": 53,
      "outputs": [
        {
          "output_type": "stream",
          "name": "stdout",
          "text": [
            "18\n"
          ]
        }
      ]
    },
    {
      "cell_type": "code",
      "source": [
        "s=(12,14,16,18,10,111,123)\n",
        "print (min(s))\n",
        "print(max(s))\n",
        "print(sum(s))\n",
        "print(len(s))"
      ],
      "metadata": {
        "colab": {
          "base_uri": "https://localhost:8080/"
        },
        "id": "Pcq0J-l-4I0c",
        "outputId": "321716a7-1ccb-4dd0-8462-7f6794766ad6"
      },
      "execution_count": 61,
      "outputs": [
        {
          "output_type": "stream",
          "name": "stdout",
          "text": [
            "10\n",
            "123\n",
            "304\n",
            "7\n"
          ]
        }
      ]
    }
  ]
}