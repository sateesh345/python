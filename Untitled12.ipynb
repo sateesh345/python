{
  "nbformat": 4,
  "nbformat_minor": 0,
  "metadata": {
    "colab": {
      "provenance": [],
      "authorship_tag": "ABX9TyNrAoLql99BxE8aByVWBFgj",
      "include_colab_link": true
    },
    "kernelspec": {
      "name": "python3",
      "display_name": "Python 3"
    },
    "language_info": {
      "name": "python"
    }
  },
  "cells": [
    {
      "cell_type": "markdown",
      "metadata": {
        "id": "view-in-github",
        "colab_type": "text"
      },
      "source": [
        "<a href=\"https://colab.research.google.com/github/sateesh345/python/blob/main/Untitled12.ipynb\" target=\"_parent\"><img src=\"https://colab.research.google.com/assets/colab-badge.svg\" alt=\"Open In Colab\"/></a>"
      ]
    },
    {
      "cell_type": "code",
      "execution_count": 1,
      "metadata": {
        "colab": {
          "base_uri": "https://localhost:8080/"
        },
        "id": "BZCBC39F4ruc",
        "outputId": "a22c1a20-d992-457a-8e59-eb8fe7656bef"
      },
      "outputs": [
        {
          "output_type": "stream",
          "name": "stdout",
          "text": [
            "999\n",
            "12\n"
          ]
        }
      ],
      "source": [
        "\n",
        "s=(12,134,533,987,999)\n",
        "print(max(s))\n",
        "print(min(s))"
      ]
    },
    {
      "cell_type": "code",
      "source": [
        "for s in \"sateesh kumar\":\n",
        "  if s=='p':\n",
        "    continue\n",
        "  print(s)"
      ],
      "metadata": {
        "colab": {
          "base_uri": "https://localhost:8080/"
        },
        "id": "w8663fPs4y8y",
        "outputId": "367ebf35-d8e8-4ddd-c974-19ca880e1527"
      },
      "execution_count": 7,
      "outputs": [
        {
          "output_type": "stream",
          "name": "stdout",
          "text": [
            "s\n",
            "a\n",
            "t\n",
            "e\n",
            "e\n",
            "s\n",
            "h\n",
            " \n",
            "k\n",
            "u\n",
            "m\n",
            "a\n",
            "r\n"
          ]
        }
      ]
    },
    {
      "cell_type": "code",
      "source": [
        "try:\n",
        "    print('sateesh kumar')\n",
        "except TypeError:\n",
        "    print(\"typr error\")\n",
        "except ValueError:\n",
        "    print('value error')\n",
        "class pythonlife():\n",
        "    s=3\n",
        "    print(s)"
      ],
      "metadata": {
        "colab": {
          "base_uri": "https://localhost:8080/"
        },
        "id": "p_4LyRd55puO",
        "outputId": "2483983b-84a3-494a-dac4-839a8ab79cca"
      },
      "execution_count": 10,
      "outputs": [
        {
          "output_type": "stream",
          "name": "stdout",
          "text": [
            "sateesh kumar\n",
            "3\n"
          ]
        }
      ]
    },
    {
      "cell_type": "code",
      "source": [
        "dict ={1:'sunday',2:'monday',3:'tuesday'}\n",
        "#print(dict)\n",
        "print(dict[2])"
      ],
      "metadata": {
        "colab": {
          "base_uri": "https://localhost:8080/"
        },
        "id": "Kz_7R1YX9gbO",
        "outputId": "e7dd6930-3f50-4a7f-c112-58eba7a751b1"
      },
      "execution_count": 12,
      "outputs": [
        {
          "output_type": "stream",
          "name": "stdout",
          "text": [
            "monday\n"
          ]
        }
      ]
    },
    {
      "cell_type": "code",
      "source": [
        "x=80\n",
        "y=85\n",
        "z=78\n",
        "if(y<x):\n",
        "    print(\"y is greater\")\n",
        "elif(x<z and y<z):\n",
        "    print(\"x is greater\")\n",
        "else:\n",
        "    print(\"y is greater\")"
      ],
      "metadata": {
        "colab": {
          "base_uri": "https://localhost:8080/"
        },
        "id": "a-g1iUVe-kmB",
        "outputId": "7d5a6a9c-6ddb-4df9-d6fd-df8b83b4f43a"
      },
      "execution_count": 13,
      "outputs": [
        {
          "output_type": "stream",
          "name": "stdout",
          "text": [
            "y is greater\n"
          ]
        }
      ]
    },
    {
      "cell_type": "code",
      "source": [
        "s=(\"sateesh kumar\",9,18)\n",
        "k=(\"ram\",\"charan\",22,25)\n",
        "print (s+k)\n",
        "print(s[0:1]+k[0:2])"
      ],
      "metadata": {
        "colab": {
          "base_uri": "https://localhost:8080/"
        },
        "id": "ngU9Hj-D-uUr",
        "outputId": "432ada73-51e1-4470-c2ab-5ff3ebbdf1c7"
      },
      "execution_count": 17,
      "outputs": [
        {
          "output_type": "stream",
          "name": "stdout",
          "text": [
            "('sateesh kumar', 9, 18, 'ram', 'charan', 22, 25)\n",
            "('sateesh kumar', 'ram', 'charan')\n"
          ]
        }
      ]
    },
    {
      "cell_type": "code",
      "source": [
        "set1={1,2,3,4,5,6}\n",
        "set2={4,5,6}\n",
        "print(set1.union(set2))\n",
        "print(set1.intersection(set2))\n",
        "print(set1.difference(set2))\n",
        "print(set1.issubset(set2))\n",
        "print(set1.issuperset(set2))\n",
        "for i in {1,2,3,4}:\n",
        "  print(i)"
      ],
      "metadata": {
        "colab": {
          "base_uri": "https://localhost:8080/"
        },
        "id": "323Vt2gj-5L9",
        "outputId": "043aaa83-2a3a-4e2b-c61d-9e1d06fc316c"
      },
      "execution_count": 18,
      "outputs": [
        {
          "output_type": "stream",
          "name": "stdout",
          "text": [
            "{1, 2, 3, 4, 5, 6}\n",
            "{4, 5, 6}\n",
            "{1, 2, 3}\n",
            "False\n",
            "True\n",
            "1\n",
            "2\n",
            "3\n",
            "4\n"
          ]
        }
      ]
    },
    {
      "cell_type": "code",
      "source": [
        "sateesh=\"kumar pragada\"\n",
        "print(sateesh)\n",
        "print(len(sateesh))\n",
        "print(sateesh.strip())"
      ],
      "metadata": {
        "colab": {
          "base_uri": "https://localhost:8080/"
        },
        "id": "n_Jpcmjo_RcR",
        "outputId": "6993c0bc-82fa-4ceb-abc0-9cd7fa7e631d"
      },
      "execution_count": 19,
      "outputs": [
        {
          "output_type": "stream",
          "name": "stdout",
          "text": [
            "kumar pragada\n",
            "13\n",
            "kumar pragada\n"
          ]
        }
      ]
    },
    {
      "cell_type": "code",
      "source": [
        "\n",
        "sateesh=\"kumar pragada\"\n",
        "print(sateesh.lower())\n",
        "sateesh=\"kumar pagada\"\n",
        "print(sateesh.endswith(\"a\"))\n",
        "sateesh=\"kumar pragada\"\n",
        "print (sateesh.startswith(\"kumar\"))\n",
        "sateesh=\"kumar pragada\"\n",
        "print(sateesh.replace(\"kumar\",\"sateesh\"))\n",
        "sateesh =\"kumar pragada\"\n",
        "print(sateesh.index(\"kumari\"))\n",
        "print(sateesh.find(\"kumari\"))\n",
        "sateesh=\"kumar pragada\"\n",
        "print(sateesh.count(\"a\"))\n",
        "sateesh=\"kumar pragada\"\n",
        "print(sateesh.removeprefix(\"ku\"))\n",
        "sateesh=\"kumar pragada\"\n",
        "print(sateesh.removesuffix(\"da\"))\n",
        "sateesh=\"kumar pragada\"\n",
        "print(sateesh.split())\n",
        "sateesh=\"kumar pragada\"\n",
        "print(sateesh.capitalize())"
      ],
      "metadata": {
        "colab": {
          "base_uri": "https://localhost:8080/",
          "height": 280
        },
        "id": "M6uZPDkk_bx-",
        "outputId": "fe7c0a8a-89f7-4183-f187-ac0d52a966e3"
      },
      "execution_count": 25,
      "outputs": [
        {
          "output_type": "stream",
          "name": "stdout",
          "text": [
            "kumar pragada\n",
            "True\n",
            "True\n",
            "sateesh pragada\n"
          ]
        },
        {
          "output_type": "error",
          "ename": "ValueError",
          "evalue": "substring not found",
          "traceback": [
            "\u001b[0;31m---------------------------------------------------------------------------\u001b[0m",
            "\u001b[0;31mValueError\u001b[0m                                Traceback (most recent call last)",
            "\u001b[0;32m<ipython-input-25-d91a1e18882f>\u001b[0m in \u001b[0;36m<cell line: 0>\u001b[0;34m()\u001b[0m\n\u001b[1;32m      8\u001b[0m \u001b[0mprint\u001b[0m\u001b[0;34m(\u001b[0m\u001b[0msateesh\u001b[0m\u001b[0;34m.\u001b[0m\u001b[0mreplace\u001b[0m\u001b[0;34m(\u001b[0m\u001b[0;34m\"kumar\"\u001b[0m\u001b[0;34m,\u001b[0m\u001b[0;34m\"sateesh\"\u001b[0m\u001b[0;34m)\u001b[0m\u001b[0;34m)\u001b[0m\u001b[0;34m\u001b[0m\u001b[0;34m\u001b[0m\u001b[0m\n\u001b[1;32m      9\u001b[0m \u001b[0msateesh\u001b[0m \u001b[0;34m=\u001b[0m\u001b[0;34m\"kumar pragada\"\u001b[0m\u001b[0;34m\u001b[0m\u001b[0;34m\u001b[0m\u001b[0m\n\u001b[0;32m---> 10\u001b[0;31m \u001b[0mprint\u001b[0m\u001b[0;34m(\u001b[0m\u001b[0msateesh\u001b[0m\u001b[0;34m.\u001b[0m\u001b[0mindex\u001b[0m\u001b[0;34m(\u001b[0m\u001b[0;34m\"kumari\"\u001b[0m\u001b[0;34m)\u001b[0m\u001b[0;34m)\u001b[0m\u001b[0;34m\u001b[0m\u001b[0;34m\u001b[0m\u001b[0m\n\u001b[0m\u001b[1;32m     11\u001b[0m \u001b[0mprint\u001b[0m\u001b[0;34m(\u001b[0m\u001b[0msateesh\u001b[0m\u001b[0;34m.\u001b[0m\u001b[0mfind\u001b[0m\u001b[0;34m(\u001b[0m\u001b[0;34m\"kumari\"\u001b[0m\u001b[0;34m)\u001b[0m\u001b[0;34m)\u001b[0m\u001b[0;34m\u001b[0m\u001b[0;34m\u001b[0m\u001b[0m\n\u001b[1;32m     12\u001b[0m \u001b[0msateesh\u001b[0m\u001b[0;34m=\u001b[0m\u001b[0;34m\"kumar pragada\"\u001b[0m\u001b[0;34m\u001b[0m\u001b[0;34m\u001b[0m\u001b[0m\n",
            "\u001b[0;31mValueError\u001b[0m: substring not found"
          ]
        }
      ]
    },
    {
      "cell_type": "code",
      "source": [
        "sateesh=\"kumar pragada\"\n",
        "print(sateesh.lower())\n",
        "sateesh=\"kumar pagada\"\n",
        "print(sateesh.endswith(\"a\"))\n",
        "sateesh=\"kumar pragada\"\n",
        "print (sateesh.startswith(\"kumar\"))\n",
        "sateesh=\"kumar pragada\"\n",
        "print(sateesh.replace(\"kumar\",\"sateesh\"))\n",
        "sateesh =\"kumar pragada\"\n",
        "# Use find() instead of index() to avoid ValueError if substring is not found\n",
        "#print(sateesh.index(\"kumari\"))\n",
        "print(sateesh.find(\"kumari\")) # find() returns -1 if not found\n",
        "sateesh=\"kumar pragada\"\n",
        "print(sateesh.count(\"a\"))\n",
        "sateesh=\"kumar pragada\"\n",
        "print(sateesh.removeprefix(\"ku\"))\n",
        "sateesh=\"kumar pragada\"\n",
        "print(sateesh.removesuffix(\"da\"))\n",
        "sateesh=\"kumar pragada\"\n",
        "print(sateesh.split())\n",
        "sateesh=\"kumar pragada\"\n",
        "print(sateesh.capitalize())"
      ],
      "metadata": {
        "colab": {
          "base_uri": "https://localhost:8080/"
        },
        "id": "28WyZbLh_qv7",
        "outputId": "8a151477-1d96-4459-b290-e0b3e5aa21b0"
      },
      "execution_count": 26,
      "outputs": [
        {
          "output_type": "stream",
          "name": "stdout",
          "text": [
            "kumar pragada\n",
            "True\n",
            "True\n",
            "sateesh pragada\n",
            "-1\n",
            "4\n",
            "mar pragada\n",
            "kumar praga\n",
            "['kumar', 'pragada']\n",
            "Kumar pragada\n"
          ]
        }
      ]
    }
  ]
}