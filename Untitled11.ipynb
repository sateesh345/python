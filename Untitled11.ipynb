{
  "nbformat": 4,
  "nbformat_minor": 0,
  "metadata": {
    "colab": {
      "provenance": [],
      "authorship_tag": "ABX9TyO5FTGNG6jdl09EnE8xJODN",
      "include_colab_link": true
    },
    "kernelspec": {
      "name": "python3",
      "display_name": "Python 3"
    },
    "language_info": {
      "name": "python"
    }
  },
  "cells": [
    {
      "cell_type": "markdown",
      "metadata": {
        "id": "view-in-github",
        "colab_type": "text"
      },
      "source": [
        "<a href=\"https://colab.research.google.com/github/sateesh345/python/blob/main/Untitled11.ipynb\" target=\"_parent\"><img src=\"https://colab.research.google.com/assets/colab-badge.svg\" alt=\"Open In Colab\"/></a>"
      ]
    },
    {
      "cell_type": "code",
      "execution_count": null,
      "metadata": {
        "colab": {
          "base_uri": "https://localhost:8080/"
        },
        "id": "wUDrm7jKsQzw",
        "outputId": "533de3f6-4943-4af6-c11b-afab6a2ae85f"
      },
      "outputs": [
        {
          "output_type": "stream",
          "name": "stdout",
          "text": [
            "enter a char:S\n",
            "its is upper case alphabet\n"
          ]
        }
      ],
      "source": [
        "x=(input(\"enter a char:\"))\n",
        "if ((x>='a')and(x<=z)):\n",
        "  print(\"its is alower case alphabet\")\n",
        "elif((x>='A')and(x<='Z')):\n",
        "  print(\"its is upper case alphabet\")\n",
        "elif((x>='0')and(x<='9')):\n",
        "  print(\"its numeric\")\n",
        "else:\n",
        "  (\"it is symble\")"
      ]
    },
    {
      "cell_type": "code",
      "source": [
        "s={22,1,23,42,54,6,43,12}\n",
        "s.remove(12)\n",
        "print(s)"
      ],
      "metadata": {
        "id": "PWD6Nu3tuhUG",
        "colab": {
          "base_uri": "https://localhost:8080/"
        },
        "outputId": "8baa2b2c-90f0-406a-939f-7cf3842684c5"
      },
      "execution_count": 1,
      "outputs": [
        {
          "output_type": "stream",
          "name": "stdout",
          "text": [
            "{1, 6, 42, 43, 54, 23, 22}\n"
          ]
        }
      ]
    },
    {
      "cell_type": "code",
      "source": [
        "k={18,45,7,96,3,1,18}\n",
        "k.remove(18)\n",
        "print(k)"
      ],
      "metadata": {
        "colab": {
          "base_uri": "https://localhost:8080/"
        },
        "id": "dmRtDOAqdACm",
        "outputId": "6ec8428e-92a8-4935-9006-f938d7172f49"
      },
      "execution_count": 2,
      "outputs": [
        {
          "output_type": "stream",
          "name": "stdout",
          "text": [
            "{96, 1, 3, 7, 45}\n"
          ]
        }
      ]
    },
    {
      "cell_type": "code",
      "source": [
        "p={19,17,33,22,44}\n",
        "p.add(18)\n",
        "print(p)"
      ],
      "metadata": {
        "colab": {
          "base_uri": "https://localhost:8080/"
        },
        "id": "XXKPgBl1dR16",
        "outputId": "11d860b8-6a41-47bf-95bb-07aa00b3fe38"
      },
      "execution_count": 3,
      "outputs": [
        {
          "output_type": "stream",
          "name": "stdout",
          "text": [
            "{33, 17, 19, 18, 22, 44}\n"
          ]
        }
      ]
    },
    {
      "cell_type": "code",
      "source": [
        "s=(\"sateesh kumar pragada\")\n",
        "print(len(s))\n",
        "print(len(s))"
      ],
      "metadata": {
        "colab": {
          "base_uri": "https://localhost:8080/"
        },
        "id": "rOrvWSWydg7B",
        "outputId": "ff1fb71e-c65d-4cff-fece-778cbfaeb73f"
      },
      "execution_count": 6,
      "outputs": [
        {
          "output_type": "stream",
          "name": "stdout",
          "text": [
            "21\n",
            "21\n"
          ]
        }
      ]
    },
    {
      "cell_type": "code",
      "source": [
        "p=(\"sateesh kumar pragada\")\n",
        "print(s.upper())"
      ],
      "metadata": {
        "colab": {
          "base_uri": "https://localhost:8080/"
        },
        "id": "8mYfz1Cqe9FC",
        "outputId": "87c7ae80-0279-4eeb-c132-f3d0399a05e6"
      },
      "execution_count": 7,
      "outputs": [
        {
          "output_type": "stream",
          "name": "stdout",
          "text": [
            "SATEESH KUMAR PRAGADA\n"
          ]
        }
      ]
    },
    {
      "cell_type": "code",
      "source": [
        "s=(\"ram charan tej\")\n",
        "print(s.lower())"
      ],
      "metadata": {
        "colab": {
          "base_uri": "https://localhost:8080/"
        },
        "id": "N_fe7GuRfGjt",
        "outputId": "46ba5c97-1282-415f-c58d-201059b11a89"
      },
      "execution_count": 9,
      "outputs": [
        {
          "output_type": "stream",
          "name": "stdout",
          "text": [
            "ram charan tej\n"
          ]
        }
      ]
    },
    {
      "cell_type": "code",
      "source": [
        "s=(18,22,54,67,89)\n",
        "print(min(s))"
      ],
      "metadata": {
        "colab": {
          "base_uri": "https://localhost:8080/"
        },
        "id": "m53UK1rafPVB",
        "outputId": "e5db6214-f587-41e9-ed4b-acef3f4469c8"
      },
      "execution_count": 10,
      "outputs": [
        {
          "output_type": "stream",
          "name": "stdout",
          "text": [
            "18\n"
          ]
        }
      ]
    },
    {
      "cell_type": "code",
      "source": [
        "s=(18,22,54,67,89)\n",
        "print(max(s))"
      ],
      "metadata": {
        "colab": {
          "base_uri": "https://localhost:8080/"
        },
        "id": "9thocDhbfp3a",
        "outputId": "bb870543-9818-4d52-dac3-349cbc557b0b"
      },
      "execution_count": 11,
      "outputs": [
        {
          "output_type": "stream",
          "name": "stdout",
          "text": [
            "89\n"
          ]
        }
      ]
    },
    {
      "cell_type": "code",
      "source": [
        "s=(18,22,54,67,89)\n",
        "print(sum(s))"
      ],
      "metadata": {
        "colab": {
          "base_uri": "https://localhost:8080/"
        },
        "id": "uJnjZU66f0Wt",
        "outputId": "7f08434d-d14e-4653-cd6d-be0aaaafd60c"
      },
      "execution_count": 12,
      "outputs": [
        {
          "output_type": "stream",
          "name": "stdout",
          "text": [
            "250\n"
          ]
        }
      ]
    },
    {
      "cell_type": "code",
      "source": [
        "s1=(18,17,45,7,3,12)\n",
        "s2=(96,99,38,1,9)\n",
        "print(s1+s2)"
      ],
      "metadata": {
        "colab": {
          "base_uri": "https://localhost:8080/"
        },
        "id": "zGtC9MWOf6Oe",
        "outputId": "fe76e175-db0d-42ae-94ac-19f3e60cc48e"
      },
      "execution_count": 13,
      "outputs": [
        {
          "output_type": "stream",
          "name": "stdout",
          "text": [
            "(18, 17, 45, 7, 3, 12, 96, 99, 38, 1, 9)\n"
          ]
        }
      ]
    },
    {
      "cell_type": "code",
      "source": [
        "s1=(18,17,45,7,3,12)\n",
        "s2=(96,99,38,1,9)\n",
        "print(s1,s2)"
      ],
      "metadata": {
        "colab": {
          "base_uri": "https://localhost:8080/"
        },
        "id": "GxAhwsrqgR5E",
        "outputId": "a8c38ede-53d8-40ae-fe11-268f7ee5b049"
      },
      "execution_count": 16,
      "outputs": [
        {
          "output_type": "stream",
          "name": "stdout",
          "text": [
            "(18, 17, 45, 7, 3, 12) (96, 99, 38, 1, 9)\n"
          ]
        }
      ]
    },
    {
      "cell_type": "code",
      "source": [
        "\n",
        "s1=(96,99,38,1,9)\n",
        "\n",
        "print(s1*3)"
      ],
      "metadata": {
        "colab": {
          "base_uri": "https://localhost:8080/"
        },
        "id": "e5mMZPowgmh5",
        "outputId": "f7d4f710-79c6-4a9a-9612-95c3b0267b31"
      },
      "execution_count": 18,
      "outputs": [
        {
          "output_type": "stream",
          "name": "stdout",
          "text": [
            "(96, 99, 38, 1, 9, 96, 99, 38, 1, 9, 96, 99, 38, 1, 9)\n"
          ]
        }
      ]
    },
    {
      "cell_type": "code",
      "source": [
        "class yuvi:\n",
        "  def profile(self):\n",
        "    int(input(\"enter your number\"))\n",
        "class virat(yuvi):\n",
        "  def details(self):\n",
        "    print(\"name:\",\"virat kohli\")\n",
        "    print(\"mother name:\",\"viruska\")\n",
        "    print(\"father name:\",\"akay\")\n",
        "    print(\"wife name:\",\"anuska\")\n",
        "    print(\"address:\",\"mumbai\")\n",
        "    print(\"ph no:\",\"9573950202\")\n",
        "class dhoni(virat):\n",
        "  def score(self):\n",
        "    print(\"eng:\",\"100*\")\n",
        "    print(\"aus:\",\"152\")\n",
        "    print(\"sl:\",\"118*\")\n",
        "    print(\"nz:\",\"109\")\n",
        "    print(\"ban:\",\"183*\")\n",
        "    print(\"sau:\",\"113\")\n",
        "d=dhoni()\n",
        "d.profile()\n",
        "d.details()\n",
        "d.score()\n"
      ],
      "metadata": {
        "colab": {
          "base_uri": "https://localhost:8080/"
        },
        "id": "nErVEECrg0Dy",
        "outputId": "ba1e6176-ac52-4411-837a-88be040718fd"
      },
      "execution_count": 19,
      "outputs": [
        {
          "output_type": "stream",
          "name": "stdout",
          "text": [
            "enter your number18\n",
            "name: virat kohli\n",
            "mother name: viruska\n",
            "father name: akay\n",
            "wife name: anuska\n",
            "address: mumbai\n",
            "ph no: 9573950202\n",
            "eng: 100*\n",
            "aus: 152\n",
            "sl: 118*\n",
            "nz: 109\n",
            "ban: 183*\n",
            "sau: 113\n"
          ]
        }
      ]
    },
    {
      "cell_type": "code",
      "source": [
        "s=int(input(\"enter a number\"))\n",
        "if(s%2==0):\n",
        "  print(\"even\")\n",
        "else:\n",
        "  print(\"odd\")\n"
      ],
      "metadata": {
        "colab": {
          "base_uri": "https://localhost:8080/"
        },
        "id": "kVoKNseCjpQ_",
        "outputId": "a12acc18-890e-4f5a-c8d4-89733753d0d8"
      },
      "execution_count": 20,
      "outputs": [
        {
          "output_type": "stream",
          "name": "stdout",
          "text": [
            "enter a number2\n",
            "even\n"
          ]
        }
      ]
    },
    {
      "cell_type": "code",
      "source": [
        "s=int(input(\"enter a number\"))\n",
        "if (s>=18):\n",
        "  print(\"eligible to vote\")\n",
        "else:\n",
        "  print(\"not eligible to vote\")"
      ],
      "metadata": {
        "colab": {
          "base_uri": "https://localhost:8080/"
        },
        "id": "z15Kx9G1lvV9",
        "outputId": "e6a0d7ae-35dc-4899-82d2-81306992c50a"
      },
      "execution_count": 24,
      "outputs": [
        {
          "output_type": "stream",
          "name": "stdout",
          "text": [
            "enter a number17\n",
            "not eligible to vote\n"
          ]
        }
      ]
    },
    {
      "cell_type": "code",
      "source": [
        "a=\"sateesh kumar\"\n",
        "b=\"santosh kumar\"\n",
        "print(a[0:9])"
      ],
      "metadata": {
        "colab": {
          "base_uri": "https://localhost:8080/"
        },
        "id": "4eWGT-DOmJKj",
        "outputId": "d4a7c942-86e0-43d6-f48b-52605096fc8b"
      },
      "execution_count": 29,
      "outputs": [
        {
          "output_type": "stream",
          "name": "stdout",
          "text": [
            "sateesh k\n"
          ]
        }
      ]
    },
    {
      "cell_type": "code",
      "source": [
        "a=\"satees kumar\"\n",
        "b=\"santosh kumar\"\n",
        "print(a[0:8]+b[9:12])"
      ],
      "metadata": {
        "colab": {
          "base_uri": "https://localhost:8080/"
        },
        "id": "gMHIPtELm3nd",
        "outputId": "61fd097c-2680-4fd8-ebc8-a3e147c36a09"
      },
      "execution_count": 33,
      "outputs": [
        {
          "output_type": "stream",
          "name": "stdout",
          "text": [
            "satees kuma\n"
          ]
        }
      ]
    },
    {
      "cell_type": "code",
      "source": [
        "for s in \"ram charan tej\":\n",
        "\n",
        "  if s=='p':\n",
        "   continue\n",
        "  print(s)\n"
      ],
      "metadata": {
        "colab": {
          "base_uri": "https://localhost:8080/"
        },
        "id": "U6Gv2z5JnpSW",
        "outputId": "cabb8365-fccf-426a-e64f-72b5cfc15ee2"
      },
      "execution_count": 38,
      "outputs": [
        {
          "output_type": "stream",
          "name": "stdout",
          "text": [
            "r\n",
            "a\n",
            "m\n",
            " \n",
            "c\n",
            "h\n",
            "a\n",
            "r\n",
            "a\n",
            "n\n",
            " \n",
            "t\n",
            "e\n",
            "j\n"
          ]
        }
      ]
    },
    {
      "cell_type": "code",
      "source": [
        "for k in \"virat kohli\":\n",
        "  if k=='s':\n",
        "    continue\n",
        "  print(k)"
      ],
      "metadata": {
        "colab": {
          "base_uri": "https://localhost:8080/"
        },
        "id": "WdIm-r2fo-QZ",
        "outputId": "b49f290d-e210-47f0-ee16-3721a03491d1"
      },
      "execution_count": 39,
      "outputs": [
        {
          "output_type": "stream",
          "name": "stdout",
          "text": [
            "v\n",
            "i\n",
            "r\n",
            "a\n",
            "t\n",
            " \n",
            "k\n",
            "o\n",
            "h\n",
            "l\n",
            "i\n"
          ]
        }
      ]
    },
    {
      "cell_type": "code",
      "source": [
        "p=90\n",
        "s=80\n",
        "k=96\n",
        "if(p<=s):\n",
        "  print(\"p is grater then s\")\n",
        "elif(k<=s)and(p<=s):\n",
        "  print(\"k is greter then s\")\n",
        "else:\n",
        "  print(\"p is less then k\")"
      ],
      "metadata": {
        "colab": {
          "base_uri": "https://localhost:8080/"
        },
        "id": "vhJ3YVpmpNqF",
        "outputId": "62e4d0c6-e4dd-4e82-ec60-f5f96729e325"
      },
      "execution_count": 43,
      "outputs": [
        {
          "output_type": "stream",
          "name": "stdout",
          "text": [
            "p is less then k\n"
          ]
        }
      ]
    }
  ]
}