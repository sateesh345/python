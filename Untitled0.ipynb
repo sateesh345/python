{
  "nbformat": 4,
  "nbformat_minor": 0,
  "metadata": {
    "colab": {
      "provenance": [],
      "authorship_tag": "ABX9TyPARvdGFA1FMUC9XMsPQ5Vx",
      "include_colab_link": true
    },
    "kernelspec": {
      "name": "python3",
      "display_name": "Python 3"
    },
    "language_info": {
      "name": "python"
    }
  },
  "cells": [
    {
      "cell_type": "markdown",
      "metadata": {
        "id": "view-in-github",
        "colab_type": "text"
      },
      "source": [
        "<a href=\"https://colab.research.google.com/github/sateesh345/python/blob/main/Untitled0.ipynb\" target=\"_parent\"><img src=\"https://colab.research.google.com/assets/colab-badge.svg\" alt=\"Open In Colab\"/></a>"
      ]
    },
    {
      "cell_type": "markdown",
      "source": [
        "**Variables**:-In Python, a variable is essentially a name that refers to a value or object stored in memory. You can use variables to store different types of data, like numbers, strings, lists, etc. Variables allow you to reference that data and perform operations on it.**bold text**"
      ],
      "metadata": {
        "id": "dOt6zhlfp0Yb"
      }
    },
    {
      "cell_type": "code",
      "source": [
        "# Assigning values to variables\n",
        "age = 25                # Integer\n",
        "name = \"Alice\"          # String\n",
        "height = 5.7            # Float\n",
        "is_student = True       # Boolean"
      ],
      "metadata": {
        "id": "osS7_l_OqwS2"
      },
      "execution_count": 1,
      "outputs": []
    },
    {
      "cell_type": "markdown",
      "source": [
        "***rules***:- Names must start with a letter (a-z, A-Z) or an underscore (_)\n",
        "After the first character,\n",
        " names can include letters, numbers, or underscores\n",
        " Names are case-sensitive,Avoid using Python reserved words"
      ],
      "metadata": {
        "id": "G2qiW2Egq6v0"
      }
    },
    {
      "cell_type": "markdown",
      "source": [
        "**integers:-**(int): In Python, int is a data type that represents integers, or whole numbers. These can be positive, negative, or zero, and do not have any fractional or decimal component. Python’s int type is unbounded, meaning it can represent arbitrarily large numbers\n"
      ],
      "metadata": {
        "id": "Rzu_P3csr6ue"
      }
    },
    {
      "cell_type": "code",
      "source": [
        "# Assigning an integer value to a variable\n",
        "x = 10\n",
        "y = -5\n",
        "z = 0\n",
        "\n",
        "print(x)  # Output: 10\n",
        "print(y)  # Output: -5\n",
        "print(z)  # Output: 0\n"
      ],
      "metadata": {
        "id": "jtij7IzvsnCA",
        "colab": {
          "base_uri": "https://localhost:8080/"
        },
        "outputId": "5a8028aa-5ae5-45ba-e5dc-91c05c42b833"
      },
      "execution_count": 2,
      "outputs": [
        {
          "output_type": "stream",
          "name": "stdout",
          "text": [
            "10\n",
            "-5\n",
            "0\n"
          ]
        }
      ]
    },
    {
      "cell_type": "markdown",
      "source": [
        "**strings:-**(str):In Python, strings are sequences of characters enclosed within either single (') or double (\") quotation marks. Python provides various methods and operations to manipulate and work with strings.\n",
        "\n"
      ],
      "metadata": {
        "id": "iXSddHictJLR"
      }
    },
    {
      "cell_type": "code",
      "source": [
        "# Using single quotes\n",
        "str1 = 'Hello, World!'\n",
        "\n",
        "# Using double quotes\n",
        "str2 = \"Python is awesome!\"\n",
        "\n",
        "# Empty string\n",
        "str3 = \"\"\n",
        "\n",
        "print(str1)  # Output: Hello, World!\n",
        "print(str2)  # Output: Python is awesome!\n",
        "print(str3)  # Output: (empty string)\n"
      ],
      "metadata": {
        "id": "5XU_1AWHtcpZ",
        "colab": {
          "base_uri": "https://localhost:8080/"
        },
        "outputId": "b20ac566-8249-4201-b870-f95fd28ba2fb"
      },
      "execution_count": 3,
      "outputs": [
        {
          "output_type": "stream",
          "name": "stdout",
          "text": [
            "Hello, World!\n",
            "Python is awesome!\n",
            "\n"
          ]
        }
      ]
    },
    {
      "cell_type": "markdown",
      "source": [
        "**float:-** In Python, float is a data type used to represent floating-point numbers, which are numbers that have a decimal point. Floats can represent real numbers, including those with fractional parts, and can also be used for calculations that involve decimal precision.\n",
        "\n"
      ],
      "metadata": {
        "id": "b_WsJ72Ttjr0"
      }
    },
    {
      "cell_type": "code",
      "source": [
        "# Creating a float\n",
        "num1 = 3.14         # A simple float\n",
        "num2 = -0.001       # Negative float\n",
        "num3 = 2.0          # A float representation of a whole number\n",
        "num4 = 1e3          # Scientific notation (1 * 10^3), equivalent to 1000.0\n",
        "\n",
        "print(num1)  # Output: 3.14\n",
        "print(num2)  # Output: -0.001\n",
        "print(num3)  # Output: 2.0\n",
        "print(num4)  # Output: 1000.0\n"
      ],
      "metadata": {
        "id": "vAlurMiot2fi",
        "colab": {
          "base_uri": "https://localhost:8080/"
        },
        "outputId": "d592552f-8e9b-4cd3-8c60-1c9223c6a4e8"
      },
      "execution_count": 4,
      "outputs": [
        {
          "output_type": "stream",
          "name": "stdout",
          "text": [
            "3.14\n",
            "-0.001\n",
            "2.0\n",
            "1000.0\n"
          ]
        }
      ]
    },
    {
      "cell_type": "markdown",
      "source": [
        "**list:-** In Python, a list is an ordered collection of items that can hold a variety of data types, including integers, floats, strings, and even other lists. Lists are mutable, meaning you can change their contents after they've been created.\n",
        "Here are some commonly used list methods:\n",
        "\n",
        "append() – Adds an item to the end of the list.                                 \n",
        "insert(index, item) – Inserts an item at a specific index.                     \n",
        "remove(item) – Removes the first occurrence of the item.                        \n",
        "pop(index) – Removes and returns the item at the specified index.               \n",
        "clear() – Removes all items from the list.                                      \n",
        "index(item) – Returns the index of the first occurrence of the item.            \n",
        "count(item) – Returns the number of occurrences of an item.                     \n",
        "sort() – Sorts the list in ascending order (in-place).                          \n",
        "reverse() – Reverses the list in-place.                                         \n",
        "copy() – Returns a shallow copy of the list.\n",
        "\n"
      ],
      "metadata": {
        "id": "t-H0hDVft_Lb"
      }
    },
    {
      "cell_type": "code",
      "source": [
        "# A list with integers\n",
        "numbers = [1, 2, 3, 4, 5]\n",
        "\n",
        "# A list with mixed data types\n",
        "mixed_list = [1, \"apple\", 3.14, True]\n",
        "\n",
        "# An empty list\n",
        "empty_list = []\n",
        "\n",
        "print(numbers)      # Output: [1, 2, 3, 4, 5]\n",
        "print(mixed_list)   # Output: [1, 'apple', 3.14, True]\n",
        "print(empty_list)   # Output: []\n"
      ],
      "metadata": {
        "id": "g1h82_4EukWd",
        "colab": {
          "base_uri": "https://localhost:8080/"
        },
        "outputId": "185fd17b-39a2-466a-bef3-d11e6c2cc828"
      },
      "execution_count": 5,
      "outputs": [
        {
          "output_type": "stream",
          "name": "stdout",
          "text": [
            "[1, 2, 3, 4, 5]\n",
            "[1, 'apple', 3.14, True]\n",
            "[]\n"
          ]
        }
      ]
    },
    {
      "cell_type": "markdown",
      "source": [
        "**tuple:-** In Python, a tuple is similar to a list, but with one key difference: tuples are immutable. This means that once a tuple is created, you cannot modify its elements (e.g., add, remove, or change elements). Tuples are often used to represent collections of related data that shouldn't be changed after creation.\n",
        "\n"
      ],
      "metadata": {
        "id": "ByHKbavtvtaK"
      }
    },
    {
      "cell_type": "code",
      "source": [
        "# A tuple with multiple elements\n",
        "my_tuple = (1, 2, 3, 4, 5)\n",
        "\n",
        "# A tuple with different data types\n",
        "mixed_tuple = (1, \"apple\", 3.14, True)\n",
        "\n",
        "# A tuple with a single element (need the comma)\n",
        "single_element_tuple = (42,)\n",
        "\n",
        "# An empty tuple\n",
        "empty_tuple = ()\n",
        "\n",
        "print(my_tuple)          # Output: (1, 2, 3, 4, 5)\n",
        "print(mixed_tuple)       # Output: (1, 'apple', 3.14, True)\n",
        "print(single_element_tuple)  # Output: (42,)\n",
        "print(empty_tuple)       # Output: ()\n"
      ],
      "metadata": {
        "id": "-rBDRQh7zCv8",
        "colab": {
          "base_uri": "https://localhost:8080/"
        },
        "outputId": "f9b36789-24cc-4b0f-d55c-a0699842f003"
      },
      "execution_count": 6,
      "outputs": [
        {
          "output_type": "stream",
          "name": "stdout",
          "text": [
            "(1, 2, 3, 4, 5)\n",
            "(1, 'apple', 3.14, True)\n",
            "(42,)\n",
            "()\n"
          ]
        }
      ]
    },
    {
      "cell_type": "markdown",
      "source": [
        " **Dictionary:-** In Python, a dictionary is an unordered collection of key-value pairs. Dictionaries are also known as hash maps or associative arrays in other programming languages. They allow you to store and retrieve data efficiently by using keys to access values.\n",
        "\n"
      ],
      "metadata": {
        "id": "P-1W07Vf0d9-"
      }
    },
    {
      "cell_type": "code",
      "source": [
        "# A simple dictionary\n",
        "my_dict = {\"name\": \"John\", \"age\": 25, \"city\": \"New York\"}\n",
        "\n",
        "# A dictionary with mixed data types for keys and values\n",
        "mixed_dict = {1: \"one\", 2.5: \"two point five\", \"key\": [1, 2, 3]}\n",
        "\n",
        "# An empty dictionary\n",
        "empty_dict = {}\n",
        "\n",
        "print(my_dict)      # Output: {'name': 'John', 'age': 25, 'city': 'New York'}\n",
        "print(mixed_dict)   # Output: {1: 'one', 2.5: 'two point five', 'key': [1, 2, 3]}\n",
        "print(empty_dict)   # Output: {}\n"
      ],
      "metadata": {
        "id": "fsoVCnej06yM",
        "colab": {
          "base_uri": "https://localhost:8080/"
        },
        "outputId": "73055f2f-7e38-4969-ca59-0d81988371f5"
      },
      "execution_count": 7,
      "outputs": [
        {
          "output_type": "stream",
          "name": "stdout",
          "text": [
            "{'name': 'John', 'age': 25, 'city': 'New York'}\n",
            "{1: 'one', 2.5: 'two point five', 'key': [1, 2, 3]}\n",
            "{}\n"
          ]
        }
      ]
    },
    {
      "cell_type": "markdown",
      "source": [
        "**loops:-** In Python, loops are a powerful way to automate repetitive tasks. The two most commonly used types of loops in Python are the for loop and the while loop. Let's go over them in detail:\n",
        "\n",
        "\n"
      ],
      "metadata": {
        "id": "RaeSFgJKak5a"
      }
    },
    {
      "cell_type": "markdown",
      "source": [
        "**for:-**\n",
        "The for loop in Python is used to iterate over a sequence (like a list, string, or range) and execute a block of code for each item in that sequence. It's one of the most commonly used loops, especially when you need to repeat tasks a fixed number of times or iterate over elements of a collection.\n",
        "\n"
      ],
      "metadata": {
        "id": "_9yIygpSbsU4"
      }
    },
    {
      "cell_type": "code",
      "source": [
        "for i in range(0,6):\n",
        "  for j in range(0,i+1):\n",
        "    print(i,end=\" \")\n",
        "  print()"
      ],
      "metadata": {
        "colab": {
          "base_uri": "https://localhost:8080/"
        },
        "id": "_wKVJS6Nb87U",
        "outputId": "af16e4f3-b421-4089-8447-baab03b27d65"
      },
      "execution_count": 8,
      "outputs": [
        {
          "output_type": "stream",
          "name": "stdout",
          "text": [
            "0 \n",
            "1 1 \n",
            "2 2 2 \n",
            "3 3 3 3 \n",
            "4 4 4 4 4 \n",
            "5 5 5 5 5 5 \n"
          ]
        }
      ]
    },
    {
      "cell_type": "markdown",
      "source": [
        "**while:-** In Python, a while loop is used to execute a block of code as long as a specified condition is True. It’s often used when you don't know how many times you'll need to loop, but you want to keep looping until a condition changes.\n",
        "\n"
      ],
      "metadata": {
        "id": "QVA2jaPJdHx-"
      }
    },
    {
      "cell_type": "code",
      "source": [
        "i=1\n",
        "a=5\n",
        "while(i<=10):\n",
        "  print(\"5 x\",i,\"=\", i*a)\n",
        "  i=i+1"
      ],
      "metadata": {
        "colab": {
          "base_uri": "https://localhost:8080/"
        },
        "id": "40F2gxA8d4zx",
        "outputId": "e3c0cab7-940b-4ab7-e139-5cb56649e0ee"
      },
      "execution_count": 9,
      "outputs": [
        {
          "output_type": "stream",
          "name": "stdout",
          "text": [
            "5 x 1 = 5\n",
            "5 x 2 = 10\n",
            "5 x 3 = 15\n",
            "5 x 4 = 20\n",
            "5 x 5 = 25\n",
            "5 x 6 = 30\n",
            "5 x 7 = 35\n",
            "5 x 8 = 40\n",
            "5 x 9 = 45\n",
            "5 x 10 = 50\n"
          ]
        }
      ]
    },
    {
      "cell_type": "markdown",
      "source": [
        "**Conditional statements:-**In Python, conditional statements allow you to execute different blocks of code based on whether a condition is True or False. The most common conditional statements in Python are if, elif, and else. These are used to make decisions in your code.\n",
        "\n"
      ],
      "metadata": {
        "id": "Ua6oX6VSey6P"
      }
    },
    {
      "cell_type": "markdown",
      "source": [
        "**if:-**In Python, the if statement is used to execute a block of code based on whether a given condition is True or False. It’s the fundamental building block of conditional logic, allowing you to control the flow of your program.\n",
        "\n"
      ],
      "metadata": {
        "id": "8-Formv5fH8e"
      }
    },
    {
      "cell_type": "code",
      "source": [
        "i=18\n",
        "if(i>20):\n",
        "  print(\"your eligible to marriage\")\n",
        "elif(i<=20):\n",
        "  print(\"your not eligible to marriage\")\n",
        "else:\n",
        "  print(\"your already married\")\n"
      ],
      "metadata": {
        "colab": {
          "base_uri": "https://localhost:8080/"
        },
        "id": "iFZg9beJfT8U",
        "outputId": "480fa199-49a6-4a05-f8e7-b19458360543"
      },
      "execution_count": 10,
      "outputs": [
        {
          "output_type": "stream",
          "name": "stdout",
          "text": [
            "your not eligible to marriage\n"
          ]
        }
      ]
    },
    {
      "cell_type": "markdown",
      "source": [
        "**Declaration:-** In Python, declaration typically refers to the process of defining or initializing variables, functions, classes, or other entities. Python is dynamically typed, which means you don't need to specify the type of a variable when you declare it. The type is inferred based on the value assigned to the variable.\n",
        "\n"
      ],
      "metadata": {
        "id": "hf6pS6ZAgK5X"
      }
    },
    {
      "cell_type": "code",
      "source": [
        "class ram:\n",
        " def __init__ (self,a,b):\n",
        "   self.__a=a\n",
        "   self._b=b\n",
        "class charan(ram):\n",
        "  def output(self):\n",
        "   print(self._b)\n",
        "d=charan(4,9)\n",
        "d.output()\n"
      ],
      "metadata": {
        "colab": {
          "base_uri": "https://localhost:8080/"
        },
        "id": "pl14lFnhgy5S",
        "outputId": "800d8d1b-dad3-4d89-d989-5ef66ea0b427"
      },
      "execution_count": 11,
      "outputs": [
        {
          "output_type": "stream",
          "name": "stdout",
          "text": [
            "9\n"
          ]
        }
      ]
    }
  ]
}