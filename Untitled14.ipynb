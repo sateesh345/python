{
  "nbformat": 4,
  "nbformat_minor": 0,
  "metadata": {
    "colab": {
      "provenance": [],
      "authorship_tag": "ABX9TyNOVRS8Lao06K69CNzYIz/0",
      "include_colab_link": true
    },
    "kernelspec": {
      "name": "python3",
      "display_name": "Python 3"
    },
    "language_info": {
      "name": "python"
    }
  },
  "cells": [
    {
      "cell_type": "markdown",
      "metadata": {
        "id": "view-in-github",
        "colab_type": "text"
      },
      "source": [
        "<a href=\"https://colab.research.google.com/github/sateesh345/python/blob/main/Untitled14.ipynb\" target=\"_parent\"><img src=\"https://colab.research.google.com/assets/colab-badge.svg\" alt=\"Open In Colab\"/></a>"
      ]
    },
    {
      "cell_type": "markdown",
      "source": [
        "if,elif,else condicotions"
      ],
      "metadata": {
        "id": "miU2akQmHr8z"
      }
    },
    {
      "cell_type": "code",
      "execution_count": null,
      "metadata": {
        "colab": {
          "base_uri": "https://localhost:8080/"
        },
        "id": "sw79roGBpX9d",
        "outputId": "d1323e8c-08ee-46df-ce2a-7e25366b802b"
      },
      "outputs": [
        {
          "output_type": "stream",
          "name": "stdout",
          "text": [
            "enter your age25\n",
            "your eligible to marriage\n"
          ]
        }
      ],
      "source": [
        "i=int(input(\"enter your age\"))\n",
        "if(i<=21):\n",
        "  print(\"your not eligible to marriage\")\n",
        "elif(i>=21):\n",
        "  print(\"your eligible to marriage\")\n",
        "else:\n",
        "  (\"your alredy married\")\n"
      ]
    },
    {
      "cell_type": "markdown",
      "source": [
        "for loop\n"
      ],
      "metadata": {
        "id": "ewQBb4ArHaJH"
      }
    },
    {
      "cell_type": "code",
      "source": [
        "for i in range(0,7):\n",
        "  for j in range(0,i+1):\n",
        "    print(i,end=\"\")\n",
        "  print()"
      ],
      "metadata": {
        "colab": {
          "base_uri": "https://localhost:8080/"
        },
        "id": "-FPjD3sHHn6W",
        "outputId": "c2babe31-d6d1-406c-97a8-a4a86ca17632"
      },
      "execution_count": null,
      "outputs": [
        {
          "output_type": "stream",
          "name": "stdout",
          "text": [
            "0\n",
            "11\n",
            "222\n",
            "3333\n",
            "44444\n",
            "555555\n",
            "6666666\n"
          ]
        }
      ]
    },
    {
      "cell_type": "code",
      "source": [
        "i=11\n",
        "for i in range(11,19):\n",
        "\n",
        "  for j in range(11,i+1):\n",
        "    print(j,end=\"\")\n",
        "  print()"
      ],
      "metadata": {
        "colab": {
          "base_uri": "https://localhost:8080/"
        },
        "id": "dD71kI6KIcWG",
        "outputId": "9d3e65b5-88ac-4588-ecac-dc9fdad49ff7"
      },
      "execution_count": null,
      "outputs": [
        {
          "output_type": "stream",
          "name": "stdout",
          "text": [
            "11\n",
            "1112\n",
            "111213\n",
            "11121314\n",
            "1112131415\n",
            "111213141516\n",
            "11121314151617\n",
            "1112131415161718\n"
          ]
        }
      ]
    },
    {
      "cell_type": "code",
      "source": [
        "for i in range(1,9):\n",
        "  for j in range(i,9):\n",
        "    print(i,end=\"\")\n",
        "  print()"
      ],
      "metadata": {
        "colab": {
          "base_uri": "https://localhost:8080/"
        },
        "id": "OJcbWFNgJo4z",
        "outputId": "041ad070-8d65-4927-f01e-e8e7abf22a50"
      },
      "execution_count": null,
      "outputs": [
        {
          "output_type": "stream",
          "name": "stdout",
          "text": [
            "11111111\n",
            "2222222\n",
            "333333\n",
            "44444\n",
            "5555\n",
            "666\n",
            "77\n",
            "8\n"
          ]
        }
      ]
    },
    {
      "cell_type": "code",
      "source": [
        "for i in range(1,6):\n",
        "  for j in range(0,6):\n",
        "    print(i,end=\"\")\n",
        "  print()"
      ],
      "metadata": {
        "colab": {
          "base_uri": "https://localhost:8080/"
        },
        "id": "W5Uj8kLeLcqs",
        "outputId": "4c10df6d-2ede-4f6a-e46b-f8c5b7747540"
      },
      "execution_count": null,
      "outputs": [
        {
          "output_type": "stream",
          "name": "stdout",
          "text": [
            "111111\n",
            "222222\n",
            "333333\n",
            "444444\n",
            "555555\n"
          ]
        }
      ]
    },
    {
      "cell_type": "markdown",
      "source": [
        "while\n"
      ],
      "metadata": {
        "id": "VlkiI75WMKE8"
      }
    },
    {
      "cell_type": "code",
      "source": [
        "i=1\n",
        "\n",
        "while(i<=10):\n",
        "  print(\"2 X\",i,\"=\",2*i)\n",
        "  i=i+1"
      ],
      "metadata": {
        "colab": {
          "base_uri": "https://localhost:8080/"
        },
        "id": "Hp5yqPZfNWfU",
        "outputId": "283ea3cb-a91f-42f8-b879-518a68ef7411"
      },
      "execution_count": null,
      "outputs": [
        {
          "output_type": "stream",
          "name": "stdout",
          "text": [
            "2 X 1 = 2\n",
            "2 X 2 = 4\n",
            "2 X 3 = 6\n",
            "2 X 4 = 8\n",
            "2 X 5 = 10\n",
            "2 X 6 = 12\n",
            "2 X 7 = 14\n",
            "2 X 8 = 16\n",
            "2 X 9 = 18\n",
            "2 X 10 = 20\n"
          ]
        }
      ]
    },
    {
      "cell_type": "code",
      "source": [
        "i=int(input(\"enter number\"))\n",
        "while(i<=5):\n",
        "  print(i)\n",
        "  i=i+1"
      ],
      "metadata": {
        "colab": {
          "base_uri": "https://localhost:8080/"
        },
        "id": "fm2LmABxOdSk",
        "outputId": "5c0dddb0-e36c-423e-9899-bb8d4f69705b"
      },
      "execution_count": null,
      "outputs": [
        {
          "output_type": "stream",
          "name": "stdout",
          "text": [
            "enter number1\n",
            "1\n",
            "2\n",
            "3\n",
            "4\n",
            "5\n"
          ]
        }
      ]
    },
    {
      "cell_type": "markdown",
      "source": [
        "oops\n",
        "class"
      ],
      "metadata": {
        "id": "RTAeCAGEPa-N"
      }
    },
    {
      "cell_type": "code",
      "source": [
        "class virat():\n",
        "  int(input(\"enter jersy number\"))\n",
        "  def profile(self):\n",
        "    print(\"PROFILE\")\n",
        "    print(\"country:\",\"india\")\n",
        "    print(\"name:\",\"virat\")\n",
        "    print(\"batting style:\",\"right hand\")\n",
        "    print(\"bowling style:\",\"right hand\")\n",
        "    print(\"age:\"\"37\")\n",
        "class kohli(virat):\n",
        "  def details(self):\n",
        "    print(\"DETAILS\")\n",
        "    print(\"mother name:\",\"saroj kohli\")\n",
        "    print(\"father name\",\"prem nath\")\n",
        "    print(\"wife:\",\"anuska\")\n",
        "    print(\"location:\",\"mumbai\")\n",
        "class akay(kohli):\n",
        "  def score(self):\n",
        "    print(\"SCORE\")\n",
        "    print(\"ENG:\"\"182\")\n",
        "    print(\"BAN:\"\"154\")\n",
        "    print(\"AUS:\"\"113\")\n",
        "    print(\"NZ:\"\"134\")\n",
        "    print(\"PAK:\"\"183\")\n",
        "    print(\"SA:\"\"157\")\n",
        "d=akay()\n",
        "d.profile()\n",
        "d.details()\n",
        "d.score()\n",
        "\n",
        "\n"
      ],
      "metadata": {
        "colab": {
          "base_uri": "https://localhost:8080/"
        },
        "id": "CWhSlz5QPcki",
        "outputId": "6a1d9ce0-4a38-4cd4-d1b9-b66a8aa6d96b"
      },
      "execution_count": null,
      "outputs": [
        {
          "output_type": "stream",
          "name": "stdout",
          "text": [
            "enter jersy number7\n",
            "PROFILE\n",
            "country: india\n",
            "name: virat\n",
            "batting style: right hand\n",
            "bowling style: right hand\n",
            "age:37\n",
            "DETAILS\n",
            "mother name: saroj kohli\n",
            "father name prem nath\n",
            "wife: anuska\n",
            "location: mumbai\n",
            "SCORE\n",
            "ENG:182\n",
            "BAN:154\n",
            "AUS:113\n",
            "NZ:134\n",
            "PAK:183\n",
            "SA:157\n"
          ]
        }
      ]
    },
    {
      "cell_type": "code",
      "source": [
        "class profile:\n",
        "  def __init__(self,name,age):\n",
        "    self.name=name\n",
        "    self.age=age\n",
        "p1=profile(\"raj\",25)\n",
        "print(p1.name)\n",
        "print(p1.age)"
      ],
      "metadata": {
        "colab": {
          "base_uri": "https://localhost:8080/"
        },
        "id": "TVOPlnr5TYl_",
        "outputId": "ecbedfa3-53c1-495a-bcf1-deaed1e43a12"
      },
      "execution_count": null,
      "outputs": [
        {
          "output_type": "stream",
          "name": "stdout",
          "text": [
            "raj\n",
            "25\n"
          ]
        }
      ]
    }
  ]
}